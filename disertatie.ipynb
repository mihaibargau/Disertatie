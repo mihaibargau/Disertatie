{
 "cells": [
  {
   "cell_type": "code",
   "execution_count": 1,
   "id": "b0eb5fe9",
   "metadata": {
    "_cell_guid": "b1076dfc-b9ad-4769-8c92-a6c4dae69d19",
    "_uuid": "8f2839f25d086af736a60e9eeb907d3b93b6e0e5",
    "execution": {
     "iopub.execute_input": "2022-06-16T08:33:51.760509Z",
     "iopub.status.busy": "2022-06-16T08:33:51.759788Z",
     "iopub.status.idle": "2022-06-16T08:33:51.780134Z",
     "shell.execute_reply": "2022-06-16T08:33:51.779256Z"
    },
    "papermill": {
     "duration": 0.080185,
     "end_time": "2022-06-16T08:33:51.782798",
     "exception": false,
     "start_time": "2022-06-16T08:33:51.702613",
     "status": "completed"
    },
    "tags": []
   },
   "outputs": [
    {
     "name": "stdout",
     "output_type": "stream",
     "text": [
      "/kaggle/input/fake-and-real-news-dataset/True.csv\n",
      "/kaggle/input/fake-and-real-news-dataset/Fake.csv\n"
     ]
    }
   ],
   "source": [
    "import numpy as np\n",
    "import pandas as pd \n",
    "import os\n",
    "for dirname, _, filenames in os.walk('/kaggle/input'):\n",
    "    for filename in filenames:\n",
    "        print(os.path.join(dirname, filename))"
   ]
  },
  {
   "cell_type": "code",
   "execution_count": 2,
   "id": "9659125c",
   "metadata": {
    "execution": {
     "iopub.execute_input": "2022-06-16T08:33:51.887587Z",
     "iopub.status.busy": "2022-06-16T08:33:51.887328Z",
     "iopub.status.idle": "2022-06-16T08:33:53.158561Z",
     "shell.execute_reply": "2022-06-16T08:33:53.157781Z"
    },
    "papermill": {
     "duration": 1.323738,
     "end_time": "2022-06-16T08:33:53.160785",
     "exception": false,
     "start_time": "2022-06-16T08:33:51.837047",
     "status": "completed"
    },
    "tags": []
   },
   "outputs": [],
   "source": [
    "import matplotlib.pyplot as plot\n",
    "import seaborn\n",
    "from sklearn.metrics import roc_auc_score\n",
    "#nltk.download('stopwords')"
   ]
  },
  {
   "cell_type": "code",
   "execution_count": 3,
   "id": "558cf064",
   "metadata": {
    "execution": {
     "iopub.execute_input": "2022-06-16T08:33:53.261518Z",
     "iopub.status.busy": "2022-06-16T08:33:53.261263Z",
     "iopub.status.idle": "2022-06-16T08:33:55.632326Z",
     "shell.execute_reply": "2022-06-16T08:33:55.631533Z"
    },
    "papermill": {
     "duration": 2.424204,
     "end_time": "2022-06-16T08:33:55.634657",
     "exception": false,
     "start_time": "2022-06-16T08:33:53.210453",
     "status": "completed"
    },
    "tags": []
   },
   "outputs": [],
   "source": [
    "stiri_adevarate = pd.read_csv(\"../input/fake-and-real-news-dataset/True.csv\")\n",
    "stiri_false = pd.read_csv(\"../input/fake-and-real-news-dataset/Fake.csv\")"
   ]
  },
  {
   "cell_type": "code",
   "execution_count": 4,
   "id": "729d2836",
   "metadata": {
    "execution": {
     "iopub.execute_input": "2022-06-16T08:33:55.739454Z",
     "iopub.status.busy": "2022-06-16T08:33:55.738646Z",
     "iopub.status.idle": "2022-06-16T08:33:55.758051Z",
     "shell.execute_reply": "2022-06-16T08:33:55.757037Z"
    },
    "papermill": {
     "duration": 0.074005,
     "end_time": "2022-06-16T08:33:55.761060",
     "exception": false,
     "start_time": "2022-06-16T08:33:55.687055",
     "status": "completed"
    },
    "tags": []
   },
   "outputs": [
    {
     "data": {
      "text/html": [
       "<div>\n",
       "<style scoped>\n",
       "    .dataframe tbody tr th:only-of-type {\n",
       "        vertical-align: middle;\n",
       "    }\n",
       "\n",
       "    .dataframe tbody tr th {\n",
       "        vertical-align: top;\n",
       "    }\n",
       "\n",
       "    .dataframe thead th {\n",
       "        text-align: right;\n",
       "    }\n",
       "</style>\n",
       "<table border=\"1\" class=\"dataframe\">\n",
       "  <thead>\n",
       "    <tr style=\"text-align: right;\">\n",
       "      <th></th>\n",
       "      <th>title</th>\n",
       "      <th>text</th>\n",
       "      <th>subject</th>\n",
       "      <th>date</th>\n",
       "    </tr>\n",
       "  </thead>\n",
       "  <tbody>\n",
       "    <tr>\n",
       "      <th>0</th>\n",
       "      <td>As U.S. budget fight looms, Republicans flip t...</td>\n",
       "      <td>WASHINGTON (Reuters) - The head of a conservat...</td>\n",
       "      <td>politicsNews</td>\n",
       "      <td>December 31, 2017</td>\n",
       "    </tr>\n",
       "    <tr>\n",
       "      <th>1</th>\n",
       "      <td>U.S. military to accept transgender recruits o...</td>\n",
       "      <td>WASHINGTON (Reuters) - Transgender people will...</td>\n",
       "      <td>politicsNews</td>\n",
       "      <td>December 29, 2017</td>\n",
       "    </tr>\n",
       "    <tr>\n",
       "      <th>2</th>\n",
       "      <td>Senior U.S. Republican senator: 'Let Mr. Muell...</td>\n",
       "      <td>WASHINGTON (Reuters) - The special counsel inv...</td>\n",
       "      <td>politicsNews</td>\n",
       "      <td>December 31, 2017</td>\n",
       "    </tr>\n",
       "    <tr>\n",
       "      <th>3</th>\n",
       "      <td>FBI Russia probe helped by Australian diplomat...</td>\n",
       "      <td>WASHINGTON (Reuters) - Trump campaign adviser ...</td>\n",
       "      <td>politicsNews</td>\n",
       "      <td>December 30, 2017</td>\n",
       "    </tr>\n",
       "    <tr>\n",
       "      <th>4</th>\n",
       "      <td>Trump wants Postal Service to charge 'much mor...</td>\n",
       "      <td>SEATTLE/WASHINGTON (Reuters) - President Donal...</td>\n",
       "      <td>politicsNews</td>\n",
       "      <td>December 29, 2017</td>\n",
       "    </tr>\n",
       "  </tbody>\n",
       "</table>\n",
       "</div>"
      ],
      "text/plain": [
       "                                               title  \\\n",
       "0  As U.S. budget fight looms, Republicans flip t...   \n",
       "1  U.S. military to accept transgender recruits o...   \n",
       "2  Senior U.S. Republican senator: 'Let Mr. Muell...   \n",
       "3  FBI Russia probe helped by Australian diplomat...   \n",
       "4  Trump wants Postal Service to charge 'much mor...   \n",
       "\n",
       "                                                text       subject  \\\n",
       "0  WASHINGTON (Reuters) - The head of a conservat...  politicsNews   \n",
       "1  WASHINGTON (Reuters) - Transgender people will...  politicsNews   \n",
       "2  WASHINGTON (Reuters) - The special counsel inv...  politicsNews   \n",
       "3  WASHINGTON (Reuters) - Trump campaign adviser ...  politicsNews   \n",
       "4  SEATTLE/WASHINGTON (Reuters) - President Donal...  politicsNews   \n",
       "\n",
       "                 date  \n",
       "0  December 31, 2017   \n",
       "1  December 29, 2017   \n",
       "2  December 31, 2017   \n",
       "3  December 30, 2017   \n",
       "4  December 29, 2017   "
      ]
     },
     "execution_count": 4,
     "metadata": {},
     "output_type": "execute_result"
    }
   ],
   "source": [
    "stiri_adevarate.head()"
   ]
  },
  {
   "cell_type": "code",
   "execution_count": 5,
   "id": "9454246e",
   "metadata": {
    "execution": {
     "iopub.execute_input": "2022-06-16T08:33:55.862830Z",
     "iopub.status.busy": "2022-06-16T08:33:55.862571Z",
     "iopub.status.idle": "2022-06-16T08:33:56.081970Z",
     "shell.execute_reply": "2022-06-16T08:33:56.081209Z"
    },
    "papermill": {
     "duration": 0.272309,
     "end_time": "2022-06-16T08:33:56.083986",
     "exception": false,
     "start_time": "2022-06-16T08:33:55.811677",
     "status": "completed"
    },
    "tags": []
   },
   "outputs": [
    {
     "data": {
      "text/plain": [
       "<AxesSubplot:xlabel='subject', ylabel='count'>"
      ]
     },
     "execution_count": 5,
     "metadata": {},
     "output_type": "execute_result"
    },
    {
     "data": {
      "image/png": "[encoded data removed]",
      "text/plain": [
       "<Figure size 720x576 with 1 Axes>"
      ]
     },
     "metadata": {
      "needs_background": "light"
     },
     "output_type": "display_data"
    }
   ],
   "source": [
    "plot.figure(figsize=(10,8))\n",
    "seaborn.countplot(data = stiri_adevarate, x='subject')"
   ]
  },
  {
   "cell_type": "code",
   "execution_count": 6,
   "id": "64b69ba6",
   "metadata": {
    "execution": {
     "iopub.execute_input": "2022-06-16T08:33:56.183421Z",
     "iopub.status.busy": "2022-06-16T08:33:56.183128Z",
     "iopub.status.idle": "2022-06-16T08:33:56.396604Z",
     "shell.execute_reply": "2022-06-16T08:33:56.395775Z"
    },
    "papermill": {
     "duration": 0.266973,
     "end_time": "2022-06-16T08:33:56.399000",
     "exception": false,
     "start_time": "2022-06-16T08:33:56.132027",
     "status": "completed"
    },
    "tags": []
   },
   "outputs": [
    {
     "data": {
      "text/plain": [
       "<AxesSubplot:xlabel='subject', ylabel='count'>"
      ]
     },
     "execution_count": 6,
     "metadata": {},
     "output_type": "execute_result"
    },
    {
     "data": {
      "image/png": "[encoded data removed]",
      "text/plain": [
       "<Figure size 720x576 with 1 Axes>"
      ]
     },
     "metadata": {
      "needs_background": "light"
     },
     "output_type": "display_data"
    }
   ],
   "source": [
    "plot.figure(figsize=(10,8))\n",
    "seaborn.countplot(data = stiri_false, x='subject')"
   ]
  },
  {
   "cell_type": "code",
   "execution_count": 7,
   "id": "715d07b0",
   "metadata": {
    "execution": {
     "iopub.execute_input": "2022-06-16T08:33:56.505760Z",
     "iopub.status.busy": "2022-06-16T08:33:56.504974Z",
     "iopub.status.idle": "2022-06-16T08:33:56.793302Z",
     "shell.execute_reply": "2022-06-16T08:33:56.792593Z"
    },
    "papermill": {
     "duration": 0.343074,
     "end_time": "2022-06-16T08:33:56.795219",
     "exception": false,
     "start_time": "2022-06-16T08:33:56.452145",
     "status": "completed"
    },
    "tags": []
   },
   "outputs": [
    {
     "data": {
      "text/plain": [
       "<AxesSubplot:xlabel='subject', ylabel='count'>"
      ]
     },
     "execution_count": 7,
     "metadata": {},
     "output_type": "execute_result"
    },
    {
     "data": {
      "image/png": "[encoded data removed]",
      "text/plain": [
       "<Figure size 1440x720 with 1 Axes>"
      ]
     },
     "metadata": {
      "needs_background": "light"
     },
     "output_type": "display_data"
    }
   ],
   "source": [
    "plot.figure(figsize=(20, 10))\n",
    "seaborn.countplot(x=\"subject\", data = pd.concat([stiri_false, stiri_adevarate]))"
   ]
  },
  {
   "cell_type": "code",
   "execution_count": 8,
   "id": "3a52bfd2",
   "metadata": {
    "execution": {
     "iopub.execute_input": "2022-06-16T08:33:56.904419Z",
     "iopub.status.busy": "2022-06-16T08:33:56.904159Z",
     "iopub.status.idle": "2022-06-16T08:33:57.154638Z",
     "shell.execute_reply": "2022-06-16T08:33:57.153867Z"
    },
    "papermill": {
     "duration": 0.308643,
     "end_time": "2022-06-16T08:33:57.156721",
     "exception": false,
     "start_time": "2022-06-16T08:33:56.848078",
     "status": "completed"
    },
    "tags": []
   },
   "outputs": [],
   "source": [
    "stiri_adevarate[\"class\"] = 1\n",
    "stiri_false[\"class\"] = 0\n",
    "dataframe = pd.concat([stiri_false, stiri_adevarate])\n",
    "dataframe['text'] = dataframe['text'] + \" \" + dataframe['title']\n",
    "del dataframe['title']\n",
    "del dataframe['subject']\n",
    "del dataframe['date']"
   ]
  },
  {
   "cell_type": "code",
   "execution_count": 9,
   "id": "0ac24948",
   "metadata": {
    "execution": {
     "iopub.execute_input": "2022-06-16T08:33:57.263611Z",
     "iopub.status.busy": "2022-06-16T08:33:57.262873Z",
     "iopub.status.idle": "2022-06-16T08:33:57.272700Z",
     "shell.execute_reply": "2022-06-16T08:33:57.271950Z"
    },
    "papermill": {
     "duration": 0.064144,
     "end_time": "2022-06-16T08:33:57.274454",
     "exception": false,
     "start_time": "2022-06-16T08:33:57.210310",
     "status": "completed"
    },
    "tags": []
   },
   "outputs": [
    {
     "data": {
      "text/html": [
       "<div>\n",
       "<style scoped>\n",
       "    .dataframe tbody tr th:only-of-type {\n",
       "        vertical-align: middle;\n",
       "    }\n",
       "\n",
       "    .dataframe tbody tr th {\n",
       "        vertical-align: top;\n",
       "    }\n",
       "\n",
       "    .dataframe thead th {\n",
       "        text-align: right;\n",
       "    }\n",
       "</style>\n",
       "<table border=\"1\" class=\"dataframe\">\n",
       "  <thead>\n",
       "    <tr style=\"text-align: right;\">\n",
       "      <th></th>\n",
       "      <th>text</th>\n",
       "      <th>class</th>\n",
       "    </tr>\n",
       "  </thead>\n",
       "  <tbody>\n",
       "    <tr>\n",
       "      <th>0</th>\n",
       "      <td>Donald Trump just couldn t wish all Americans ...</td>\n",
       "      <td>0</td>\n",
       "    </tr>\n",
       "    <tr>\n",
       "      <th>1</th>\n",
       "      <td>House Intelligence Committee Chairman Devin Nu...</td>\n",
       "      <td>0</td>\n",
       "    </tr>\n",
       "    <tr>\n",
       "      <th>2</th>\n",
       "      <td>On Friday, it was revealed that former Milwauk...</td>\n",
       "      <td>0</td>\n",
       "    </tr>\n",
       "    <tr>\n",
       "      <th>3</th>\n",
       "      <td>On Christmas day, Donald Trump announced that ...</td>\n",
       "      <td>0</td>\n",
       "    </tr>\n",
       "    <tr>\n",
       "      <th>4</th>\n",
       "      <td>Pope Francis used his annual Christmas Day mes...</td>\n",
       "      <td>0</td>\n",
       "    </tr>\n",
       "  </tbody>\n",
       "</table>\n",
       "</div>"
      ],
      "text/plain": [
       "                                                text  class\n",
       "0  Donald Trump just couldn t wish all Americans ...      0\n",
       "1  House Intelligence Committee Chairman Devin Nu...      0\n",
       "2  On Friday, it was revealed that former Milwauk...      0\n",
       "3  On Christmas day, Donald Trump announced that ...      0\n",
       "4  Pope Francis used his annual Christmas Day mes...      0"
      ]
     },
     "execution_count": 9,
     "metadata": {},
     "output_type": "execute_result"
    }
   ],
   "source": [
    "dataframe.head()"
   ]
  },
  {
   "cell_type": "code",
   "execution_count": 10,
   "id": "0bbdd4a4",
   "metadata": {
    "execution": {
     "iopub.execute_input": "2022-06-16T08:33:57.381385Z",
     "iopub.status.busy": "2022-06-16T08:33:57.381129Z",
     "iopub.status.idle": "2022-06-16T08:33:57.469473Z",
     "shell.execute_reply": "2022-06-16T08:33:57.468790Z"
    },
    "papermill": {
     "duration": 0.14442,
     "end_time": "2022-06-16T08:33:57.471452",
     "exception": false,
     "start_time": "2022-06-16T08:33:57.327032",
     "status": "completed"
    },
    "tags": []
   },
   "outputs": [
    {
     "data": {
      "text/plain": [
       "17800"
      ]
     },
     "execution_count": 10,
     "metadata": {},
     "output_type": "execute_result"
    }
   ],
   "source": [
    "trump = dataframe[dataframe['text'].str.contains('Donald Trump')]\n",
    "trump.count()['text']"
   ]
  },
  {
   "cell_type": "code",
   "execution_count": 11,
   "id": "5f56658a",
   "metadata": {
    "execution": {
     "iopub.execute_input": "2022-06-16T08:33:57.578815Z",
     "iopub.status.busy": "2022-06-16T08:33:57.578541Z",
     "iopub.status.idle": "2022-06-16T08:33:57.625105Z",
     "shell.execute_reply": "2022-06-16T08:33:57.624143Z"
    },
    "papermill": {
     "duration": 0.104441,
     "end_time": "2022-06-16T08:33:57.629502",
     "exception": false,
     "start_time": "2022-06-16T08:33:57.525061",
     "status": "completed"
    },
    "tags": []
   },
   "outputs": [
    {
     "data": {
      "text/plain": [
       "9172"
      ]
     },
     "execution_count": 11,
     "metadata": {},
     "output_type": "execute_result"
    }
   ],
   "source": [
    "trump_adev = stiri_adevarate[stiri_adevarate['text'].str.contains('Donald Trump')]\n",
    "trump_adev.count()['text']"
   ]
  },
  {
   "cell_type": "code",
   "execution_count": 12,
   "id": "838089d3",
   "metadata": {
    "execution": {
     "iopub.execute_input": "2022-06-16T08:33:57.741182Z",
     "iopub.status.busy": "2022-06-16T08:33:57.740934Z",
     "iopub.status.idle": "2022-06-16T08:33:57.787059Z",
     "shell.execute_reply": "2022-06-16T08:33:57.786150Z"
    },
    "papermill": {
     "duration": 0.104503,
     "end_time": "2022-06-16T08:33:57.789370",
     "exception": false,
     "start_time": "2022-06-16T08:33:57.684867",
     "status": "completed"
    },
    "tags": []
   },
   "outputs": [
    {
     "data": {
      "text/plain": [
       "8554"
      ]
     },
     "execution_count": 12,
     "metadata": {},
     "output_type": "execute_result"
    }
   ],
   "source": [
    "trump_fals = stiri_false[stiri_false['text'].str.contains('Donald Trump')]\n",
    "trump_fals.count()['text']"
   ]
  },
  {
   "cell_type": "code",
   "execution_count": 13,
   "id": "f927beb7",
   "metadata": {
    "execution": {
     "iopub.execute_input": "2022-06-16T08:33:57.904644Z",
     "iopub.status.busy": "2022-06-16T08:33:57.904367Z",
     "iopub.status.idle": "2022-06-16T08:33:58.000766Z",
     "shell.execute_reply": "2022-06-16T08:33:57.999831Z"
    },
    "papermill": {
     "duration": 0.15814,
     "end_time": "2022-06-16T08:33:58.003166",
     "exception": false,
     "start_time": "2022-06-16T08:33:57.845026",
     "status": "completed"
    },
    "tags": []
   },
   "outputs": [
    {
     "data": {
      "text/plain": [
       "1844"
      ]
     },
     "execution_count": 13,
     "metadata": {},
     "output_type": "execute_result"
    }
   ],
   "source": [
    "nk = dataframe[dataframe['text'].str.contains('North Korea')]\n",
    "nk.count()['text']"
   ]
  },
  {
   "cell_type": "code",
   "execution_count": 14,
   "id": "129f2b37",
   "metadata": {
    "execution": {
     "iopub.execute_input": "2022-06-16T08:33:58.115168Z",
     "iopub.status.busy": "2022-06-16T08:33:58.114861Z",
     "iopub.status.idle": "2022-06-16T08:33:58.165830Z",
     "shell.execute_reply": "2022-06-16T08:33:58.164916Z"
    },
    "papermill": {
     "duration": 0.108698,
     "end_time": "2022-06-16T08:33:58.167825",
     "exception": false,
     "start_time": "2022-06-16T08:33:58.059127",
     "status": "completed"
    },
    "tags": []
   },
   "outputs": [
    {
     "data": {
      "text/plain": [
       "1515"
      ]
     },
     "execution_count": 14,
     "metadata": {},
     "output_type": "execute_result"
    }
   ],
   "source": [
    "nk_adev = stiri_adevarate[stiri_adevarate['text'].str.contains('North Korea')]\n",
    "nk_adev.count()['text']"
   ]
  },
  {
   "cell_type": "code",
   "execution_count": 15,
   "id": "82c73f4d",
   "metadata": {
    "execution": {
     "iopub.execute_input": "2022-06-16T08:33:58.282211Z",
     "iopub.status.busy": "2022-06-16T08:33:58.281925Z",
     "iopub.status.idle": "2022-06-16T08:33:58.325364Z",
     "shell.execute_reply": "2022-06-16T08:33:58.324603Z"
    },
    "papermill": {
     "duration": 0.102126,
     "end_time": "2022-06-16T08:33:58.327311",
     "exception": false,
     "start_time": "2022-06-16T08:33:58.225185",
     "status": "completed"
    },
    "tags": []
   },
   "outputs": [
    {
     "data": {
      "text/plain": [
       "324"
      ]
     },
     "execution_count": 15,
     "metadata": {},
     "output_type": "execute_result"
    }
   ],
   "source": [
    "nk_fals = stiri_false[stiri_false['text'].str.contains('North Korea')]\n",
    "nk_fals.count()['text']"
   ]
  },
  {
   "cell_type": "code",
   "execution_count": 16,
   "id": "83c62503",
   "metadata": {
    "execution": {
     "iopub.execute_input": "2022-06-16T08:33:58.441653Z",
     "iopub.status.busy": "2022-06-16T08:33:58.440929Z",
     "iopub.status.idle": "2022-06-16T08:33:58.618639Z",
     "shell.execute_reply": "2022-06-16T08:33:58.617708Z"
    },
    "papermill": {
     "duration": 0.23805,
     "end_time": "2022-06-16T08:33:58.621354",
     "exception": false,
     "start_time": "2022-06-16T08:33:58.383304",
     "status": "completed"
    },
    "tags": []
   },
   "outputs": [
    {
     "data": {
      "text/plain": [
       "<AxesSubplot:xlabel='class', ylabel='count'>"
      ]
     },
     "execution_count": 16,
     "metadata": {},
     "output_type": "execute_result"
    },
    {
     "data": {
      "image/png": "[encoded data removed]",
      "text/plain": [
       "<Figure size 432x288 with 1 Axes>"
      ]
     },
     "metadata": {},
     "output_type": "display_data"
    }
   ],
   "source": [
    "seaborn.set_style(\"whitegrid\")\n",
    "seaborn.countplot(x=\"class\", data = dataframe)"
   ]
  },
  {
   "cell_type": "code",
   "execution_count": 17,
   "id": "8134fd00",
   "metadata": {
    "execution": {
     "iopub.execute_input": "2022-06-16T08:33:58.754217Z",
     "iopub.status.busy": "2022-06-16T08:33:58.753488Z",
     "iopub.status.idle": "2022-06-16T08:33:59.320593Z",
     "shell.execute_reply": "2022-06-16T08:33:59.319642Z"
    },
    "papermill": {
     "duration": 0.635191,
     "end_time": "2022-06-16T08:33:59.323878",
     "exception": false,
     "start_time": "2022-06-16T08:33:58.688687",
     "status": "completed"
    },
    "tags": []
   },
   "outputs": [],
   "source": [
    "from wordcloud import WordCloud\n",
    "from nltk.corpus import stopwords\n",
    "from nltk.tokenize import word_tokenize"
   ]
  },
  {
   "cell_type": "code",
   "execution_count": 18,
   "id": "e01cc65a",
   "metadata": {
    "execution": {
     "iopub.execute_input": "2022-06-16T08:33:59.506234Z",
     "iopub.status.busy": "2022-06-16T08:33:59.505904Z",
     "iopub.status.idle": "2022-06-16T08:34:00.195613Z",
     "shell.execute_reply": "2022-06-16T08:34:00.194840Z"
    },
    "papermill": {
     "duration": 0.784258,
     "end_time": "2022-06-16T08:34:00.198644",
     "exception": false,
     "start_time": "2022-06-16T08:33:59.414386",
     "status": "completed"
    },
    "tags": []
   },
   "outputs": [
    {
     "data": {
      "image/png": "[encoded data removed]",
      "text/plain": [
       "<Figure size 432x288 with 1 Axes>"
      ]
     },
     "metadata": {},
     "output_type": "display_data"
    }
   ],
   "source": [
    "cloud_text = dataframe[\"text\"].values\n",
    "wordcloud = WordCloud().generate(str(cloud_text))\n",
    "plot.imshow(wordcloud)\n",
    "plot.axis(\"off\")\n",
    "plot.show()"
   ]
  },
  {
   "cell_type": "code",
   "execution_count": 19,
   "id": "d453271a",
   "metadata": {
    "execution": {
     "iopub.execute_input": "2022-06-16T08:34:00.425577Z",
     "iopub.status.busy": "2022-06-16T08:34:00.424686Z",
     "iopub.status.idle": "2022-06-16T08:34:01.140920Z",
     "shell.execute_reply": "2022-06-16T08:34:01.140000Z"
    },
    "papermill": {
     "duration": 0.833663,
     "end_time": "2022-06-16T08:34:01.143539",
     "exception": false,
     "start_time": "2022-06-16T08:34:00.309876",
     "status": "completed"
    },
    "tags": []
   },
   "outputs": [
    {
     "data": {
      "image/png": "[encoded data removed]",
      "text/plain": [
       "<Figure size 432x288 with 1 Axes>"
      ]
     },
     "metadata": {},
     "output_type": "display_data"
    }
   ],
   "source": [
    "cloud_text_fake = (stiri_false[\"text\"] + \" \" + stiri_false[\"title\"]).values\n",
    "wordcloud = WordCloud().generate(str(cloud_text_fake))\n",
    "plot.imshow(wordcloud)\n",
    "plot.axis(\"off\")\n",
    "plot.show()"
   ]
  },
  {
   "cell_type": "code",
   "execution_count": 20,
   "id": "8828827f",
   "metadata": {
    "execution": {
     "iopub.execute_input": "2022-06-16T08:34:01.275192Z",
     "iopub.status.busy": "2022-06-16T08:34:01.274867Z",
     "iopub.status.idle": "2022-06-16T08:34:01.785545Z",
     "shell.execute_reply": "2022-06-16T08:34:01.784758Z"
    },
    "papermill": {
     "duration": 0.580629,
     "end_time": "2022-06-16T08:34:01.788447",
     "exception": false,
     "start_time": "2022-06-16T08:34:01.207818",
     "status": "completed"
    },
    "tags": []
   },
   "outputs": [
    {
     "data": {
      "image/png": "[encoded data removed]",
      "text/plain": [
       "<Figure size 432x288 with 1 Axes>"
      ]
     },
     "metadata": {},
     "output_type": "display_data"
    }
   ],
   "source": [
    "cloud_text_true = (stiri_adevarate[\"text\"] + \" \" + stiri_adevarate[\"title\"]).values\n",
    "wordcloud = WordCloud().generate(str(cloud_text_true))\n",
    "plot.imshow(wordcloud, interpolation='bilinear')\n",
    "plot.axis(\"off\")\n",
    "plot.show()"
   ]
  },
  {
   "cell_type": "code",
   "execution_count": 21,
   "id": "f377fecd",
   "metadata": {
    "execution": {
     "iopub.execute_input": "2022-06-16T08:34:01.927211Z",
     "iopub.status.busy": "2022-06-16T08:34:01.926960Z",
     "iopub.status.idle": "2022-06-16T08:34:01.991403Z",
     "shell.execute_reply": "2022-06-16T08:34:01.990731Z"
    },
    "papermill": {
     "duration": 0.137171,
     "end_time": "2022-06-16T08:34:01.993314",
     "exception": false,
     "start_time": "2022-06-16T08:34:01.856143",
     "status": "completed"
    },
    "tags": []
   },
   "outputs": [
    {
     "data": {
      "text/plain": [
       "43683"
      ]
     },
     "execution_count": 21,
     "metadata": {},
     "output_type": "execute_result"
    }
   ],
   "source": [
    "the = dataframe[dataframe['text'].str.contains('the')]\n",
    "the.count()['text']"
   ]
  },
  {
   "cell_type": "code",
   "execution_count": 22,
   "id": "6bf531fb",
   "metadata": {
    "execution": {
     "iopub.execute_input": "2022-06-16T08:34:02.121049Z",
     "iopub.status.busy": "2022-06-16T08:34:02.120333Z",
     "iopub.status.idle": "2022-06-16T08:34:02.127260Z",
     "shell.execute_reply": "2022-06-16T08:34:02.126580Z"
    },
    "papermill": {
     "duration": 0.073663,
     "end_time": "2022-06-16T08:34:02.129080",
     "exception": false,
     "start_time": "2022-06-16T08:34:02.055417",
     "status": "completed"
    },
    "tags": []
   },
   "outputs": [
    {
     "data": {
      "text/plain": [
       "pandas.core.series.Series"
      ]
     },
     "execution_count": 22,
     "metadata": {},
     "output_type": "execute_result"
    }
   ],
   "source": [
    "type(dataframe['text'])"
   ]
  },
  {
   "cell_type": "code",
   "execution_count": 23,
   "id": "c51f5142",
   "metadata": {
    "execution": {
     "iopub.execute_input": "2022-06-16T08:34:02.261579Z",
     "iopub.status.busy": "2022-06-16T08:34:02.261322Z",
     "iopub.status.idle": "2022-06-16T08:34:02.265300Z",
     "shell.execute_reply": "2022-06-16T08:34:02.264463Z"
    },
    "papermill": {
     "duration": 0.073715,
     "end_time": "2022-06-16T08:34:02.267445",
     "exception": false,
     "start_time": "2022-06-16T08:34:02.193730",
     "status": "completed"
    },
    "tags": []
   },
   "outputs": [],
   "source": [
    "from nltk import word_tokenize          \n",
    "from nltk.stem import WordNetLemmatizer "
   ]
  },
  {
   "cell_type": "code",
   "execution_count": 24,
   "id": "4c597714",
   "metadata": {
    "execution": {
     "iopub.execute_input": "2022-06-16T08:34:02.402876Z",
     "iopub.status.busy": "2022-06-16T08:34:02.402275Z",
     "iopub.status.idle": "2022-06-16T08:34:02.413727Z",
     "shell.execute_reply": "2022-06-16T08:34:02.413083Z"
    },
    "papermill": {
     "duration": 0.080816,
     "end_time": "2022-06-16T08:34:02.415494",
     "exception": false,
     "start_time": "2022-06-16T08:34:02.334678",
     "status": "completed"
    },
    "tags": []
   },
   "outputs": [],
   "source": [
    "from sklearn.feature_extraction.text import CountVectorizer\n",
    "from sklearn.feature_extraction import text \n",
    "from sklearn.feature_extraction.text import TfidfVectorizer\n",
    "from nltk.stem import WordNetLemmatizer\n",
    "stopW = stopwords.words('english')\n",
    "custom_stop_words = text.ENGLISH_STOP_WORDS.union(stopW)"
   ]
  },
  {
   "cell_type": "code",
   "execution_count": 25,
   "id": "dc796934",
   "metadata": {
    "execution": {
     "iopub.execute_input": "2022-06-16T08:34:02.548673Z",
     "iopub.status.busy": "2022-06-16T08:34:02.548402Z",
     "iopub.status.idle": "2022-06-16T08:34:02.552314Z",
     "shell.execute_reply": "2022-06-16T08:34:02.551648Z"
    },
    "papermill": {
     "duration": 0.072422,
     "end_time": "2022-06-16T08:34:02.554226",
     "exception": false,
     "start_time": "2022-06-16T08:34:02.481804",
     "status": "completed"
    },
    "tags": []
   },
   "outputs": [],
   "source": [
    "tfidvectorizer = TfidfVectorizer(max_df=0.8, stop_words = custom_stop_words, max_features=10000, ngram_range=(1,2))"
   ]
  },
  {
   "cell_type": "code",
   "execution_count": 26,
   "id": "060c7932",
   "metadata": {
    "execution": {
     "iopub.execute_input": "2022-06-16T08:34:02.683317Z",
     "iopub.status.busy": "2022-06-16T08:34:02.682738Z",
     "iopub.status.idle": "2022-06-16T08:34:02.686612Z",
     "shell.execute_reply": "2022-06-16T08:34:02.685942Z"
    },
    "papermill": {
     "duration": 0.070096,
     "end_time": "2022-06-16T08:34:02.688506",
     "exception": false,
     "start_time": "2022-06-16T08:34:02.618410",
     "status": "completed"
    },
    "tags": []
   },
   "outputs": [],
   "source": [
    "del stopW\n",
    "del custom_stop_words\n",
    "del stiri_false\n",
    "del stiri_adevarate"
   ]
  },
  {
   "cell_type": "code",
   "execution_count": 27,
   "id": "eb2e3374",
   "metadata": {
    "execution": {
     "iopub.execute_input": "2022-06-16T08:34:02.819963Z",
     "iopub.status.busy": "2022-06-16T08:34:02.819218Z",
     "iopub.status.idle": "2022-06-16T08:34:02.823768Z",
     "shell.execute_reply": "2022-06-16T08:34:02.822827Z"
    },
    "papermill": {
     "duration": 0.072931,
     "end_time": "2022-06-16T08:34:02.825671",
     "exception": false,
     "start_time": "2022-06-16T08:34:02.752740",
     "status": "completed"
    },
    "tags": []
   },
   "outputs": [],
   "source": [
    "caracteristici = dataframe['text'] # x caracteristica\n",
    "predictii = dataframe['class'] # y predictie"
   ]
  },
  {
   "cell_type": "code",
   "execution_count": 28,
   "id": "d33f45f3",
   "metadata": {
    "execution": {
     "iopub.execute_input": "2022-06-16T08:34:02.958531Z",
     "iopub.status.busy": "2022-06-16T08:34:02.958271Z",
     "iopub.status.idle": "2022-06-16T08:34:02.975799Z",
     "shell.execute_reply": "2022-06-16T08:34:02.974009Z"
    },
    "papermill": {
     "duration": 0.08721,
     "end_time": "2022-06-16T08:34:02.978722",
     "exception": false,
     "start_time": "2022-06-16T08:34:02.891512",
     "status": "completed"
    },
    "tags": []
   },
   "outputs": [
    {
     "data": {
      "text/html": [
       "<div>\n",
       "<style scoped>\n",
       "    .dataframe tbody tr th:only-of-type {\n",
       "        vertical-align: middle;\n",
       "    }\n",
       "\n",
       "    .dataframe tbody tr th {\n",
       "        vertical-align: top;\n",
       "    }\n",
       "\n",
       "    .dataframe thead th {\n",
       "        text-align: right;\n",
       "    }\n",
       "</style>\n",
       "<table border=\"1\" class=\"dataframe\">\n",
       "  <thead>\n",
       "    <tr style=\"text-align: right;\">\n",
       "      <th></th>\n",
       "      <th>text</th>\n",
       "      <th>class</th>\n",
       "    </tr>\n",
       "  </thead>\n",
       "  <tbody>\n",
       "    <tr>\n",
       "      <th>0</th>\n",
       "      <td>Donald Trump just couldn t wish all Americans ...</td>\n",
       "      <td>0</td>\n",
       "    </tr>\n",
       "    <tr>\n",
       "      <th>1</th>\n",
       "      <td>House Intelligence Committee Chairman Devin Nu...</td>\n",
       "      <td>0</td>\n",
       "    </tr>\n",
       "    <tr>\n",
       "      <th>2</th>\n",
       "      <td>On Friday, it was revealed that former Milwauk...</td>\n",
       "      <td>0</td>\n",
       "    </tr>\n",
       "    <tr>\n",
       "      <th>3</th>\n",
       "      <td>On Christmas day, Donald Trump announced that ...</td>\n",
       "      <td>0</td>\n",
       "    </tr>\n",
       "    <tr>\n",
       "      <th>4</th>\n",
       "      <td>Pope Francis used his annual Christmas Day mes...</td>\n",
       "      <td>0</td>\n",
       "    </tr>\n",
       "  </tbody>\n",
       "</table>\n",
       "</div>"
      ],
      "text/plain": [
       "                                                text  class\n",
       "0  Donald Trump just couldn t wish all Americans ...      0\n",
       "1  House Intelligence Committee Chairman Devin Nu...      0\n",
       "2  On Friday, it was revealed that former Milwauk...      0\n",
       "3  On Christmas day, Donald Trump announced that ...      0\n",
       "4  Pope Francis used his annual Christmas Day mes...      0"
      ]
     },
     "execution_count": 28,
     "metadata": {},
     "output_type": "execute_result"
    }
   ],
   "source": [
    "dataframe.head()"
   ]
  },
  {
   "cell_type": "code",
   "execution_count": 29,
   "id": "b5109eb6",
   "metadata": {
    "execution": {
     "iopub.execute_input": "2022-06-16T08:34:03.246454Z",
     "iopub.status.busy": "2022-06-16T08:34:03.246140Z",
     "iopub.status.idle": "2022-06-16T08:34:03.264591Z",
     "shell.execute_reply": "2022-06-16T08:34:03.263931Z"
    },
    "papermill": {
     "duration": 0.15356,
     "end_time": "2022-06-16T08:34:03.266965",
     "exception": false,
     "start_time": "2022-06-16T08:34:03.113405",
     "status": "completed"
    },
    "tags": []
   },
   "outputs": [],
   "source": [
    "from sklearn.model_selection import train_test_split\n",
    "X_train, X_test, y_train, y_test = train_test_split(caracteristici, predictii, test_size=0.20, random_state=1)"
   ]
  },
  {
   "cell_type": "code",
   "execution_count": 30,
   "id": "aa5aa344",
   "metadata": {
    "execution": {
     "iopub.execute_input": "2022-06-16T08:34:03.488205Z",
     "iopub.status.busy": "2022-06-16T08:34:03.487804Z",
     "iopub.status.idle": "2022-06-16T08:34:47.781681Z",
     "shell.execute_reply": "2022-06-16T08:34:47.780865Z"
    },
    "papermill": {
     "duration": 44.471394,
     "end_time": "2022-06-16T08:34:47.848076",
     "exception": false,
     "start_time": "2022-06-16T08:34:03.376682",
     "status": "completed"
    },
    "tags": []
   },
   "outputs": [
    {
     "data": {
      "text/plain": [
       "TfidfVectorizer(max_df=0.8, max_features=10000, ngram_range=(1, 2),\n",
       "                stop_words=frozenset({'a', 'about', 'above', 'across', 'after',\n",
       "                                      'afterwards', 'again', 'against', 'ain',\n",
       "                                      'all', 'almost', 'alone', 'along',\n",
       "                                      'already', 'also', 'although', 'always',\n",
       "                                      'am', 'among', 'amongst', 'amoungst',\n",
       "                                      'amount', 'an', 'and', 'another', 'any',\n",
       "                                      'anyhow', 'anyone', 'anything', 'anyway', ...}))"
      ]
     },
     "execution_count": 30,
     "metadata": {},
     "output_type": "execute_result"
    }
   ],
   "source": [
    "tfidvectorizer.fit(X_train)"
   ]
  },
  {
   "cell_type": "code",
   "execution_count": 31,
   "id": "a4c1766b",
   "metadata": {
    "execution": {
     "iopub.execute_input": "2022-06-16T08:34:47.984602Z",
     "iopub.status.busy": "2022-06-16T08:34:47.984001Z",
     "iopub.status.idle": "2022-06-16T08:34:47.990913Z",
     "shell.execute_reply": "2022-06-16T08:34:47.990242Z"
    },
    "papermill": {
     "duration": 0.078331,
     "end_time": "2022-06-16T08:34:47.993135",
     "exception": false,
     "start_time": "2022-06-16T08:34:47.914804",
     "status": "completed"
    },
    "tags": []
   },
   "outputs": [
    {
     "data": {
      "text/plain": [
       "19625    Nothing says  Thanksgiving  or  family  like a...\n",
       "21965    What this story shows is that while there are ...\n",
       "12561    CAIRO (Reuters) - Russian President Vladimir P...\n",
       "4137     WASHINGTON (Reuters) - President Donald Trump ...\n",
       "1608     WASHINGTON (Reuters) - U.S. Senator John McCai...\n",
       "                               ...                        \n",
       "20242    GUATEMALA CITY (Reuters) - Guatemala s federal...\n",
       "9030     WASHINGTON (Reuters) - U.S. House of Represent...\n",
       "5192     While in Virginia, GOP presidential nominee Do...\n",
       "12172    Judge Jeanine Pirro has had it with the left a...\n",
       "9522     WASHINGTON (Reuters) - A congressional committ...\n",
       "Name: text, Length: 35918, dtype: object"
      ]
     },
     "execution_count": 31,
     "metadata": {},
     "output_type": "execute_result"
    }
   ],
   "source": [
    "X_train"
   ]
  },
  {
   "cell_type": "code",
   "execution_count": 32,
   "id": "31266fd0",
   "metadata": {
    "execution": {
     "iopub.execute_input": "2022-06-16T08:34:48.134207Z",
     "iopub.status.busy": "2022-06-16T08:34:48.133437Z",
     "iopub.status.idle": "2022-06-16T08:35:19.222558Z",
     "shell.execute_reply": "2022-06-16T08:35:19.221782Z"
    },
    "papermill": {
     "duration": 31.160205,
     "end_time": "2022-06-16T08:35:19.224777",
     "exception": false,
     "start_time": "2022-06-16T08:34:48.064572",
     "status": "completed"
    },
    "tags": []
   },
   "outputs": [],
   "source": [
    "X_train = tfidvectorizer.transform(X_train).toarray()\n",
    "X_test = tfidvectorizer.transform(X_test).toarray()\n"
   ]
  },
  {
   "cell_type": "code",
   "execution_count": 33,
   "id": "9cb9824b",
   "metadata": {
    "execution": {
     "iopub.execute_input": "2022-06-16T08:35:19.362231Z",
     "iopub.status.busy": "2022-06-16T08:35:19.361710Z",
     "iopub.status.idle": "2022-06-16T08:35:19.366826Z",
     "shell.execute_reply": "2022-06-16T08:35:19.366149Z"
    },
    "papermill": {
     "duration": 0.077346,
     "end_time": "2022-06-16T08:35:19.368774",
     "exception": false,
     "start_time": "2022-06-16T08:35:19.291428",
     "status": "completed"
    },
    "tags": []
   },
   "outputs": [
    {
     "data": {
      "text/plain": [
       "(8980, 10000)"
      ]
     },
     "execution_count": 33,
     "metadata": {},
     "output_type": "execute_result"
    }
   ],
   "source": [
    "X_test.shape"
   ]
  },
  {
   "cell_type": "code",
   "execution_count": 34,
   "id": "a4e6344f",
   "metadata": {
    "execution": {
     "iopub.execute_input": "2022-06-16T08:35:19.501428Z",
     "iopub.status.busy": "2022-06-16T08:35:19.500711Z",
     "iopub.status.idle": "2022-06-16T08:35:19.506148Z",
     "shell.execute_reply": "2022-06-16T08:35:19.505362Z"
    },
    "papermill": {
     "duration": 0.075305,
     "end_time": "2022-06-16T08:35:19.508281",
     "exception": false,
     "start_time": "2022-06-16T08:35:19.432976",
     "status": "completed"
    },
    "tags": []
   },
   "outputs": [
    {
     "data": {
      "text/plain": [
       "numpy.ndarray"
      ]
     },
     "execution_count": 34,
     "metadata": {},
     "output_type": "execute_result"
    }
   ],
   "source": [
    "type(X_train)"
   ]
  },
  {
   "cell_type": "code",
   "execution_count": 35,
   "id": "73d42976",
   "metadata": {
    "execution": {
     "iopub.execute_input": "2022-06-16T08:35:19.642206Z",
     "iopub.status.busy": "2022-06-16T08:35:19.641884Z",
     "iopub.status.idle": "2022-06-16T08:35:19.647663Z",
     "shell.execute_reply": "2022-06-16T08:35:19.646924Z"
    },
    "papermill": {
     "duration": 0.073548,
     "end_time": "2022-06-16T08:35:19.649604",
     "exception": false,
     "start_time": "2022-06-16T08:35:19.576056",
     "status": "completed"
    },
    "tags": []
   },
   "outputs": [
    {
     "data": {
      "text/plain": [
       "(35918, 10000)"
      ]
     },
     "execution_count": 35,
     "metadata": {},
     "output_type": "execute_result"
    }
   ],
   "source": [
    "rows_X_train, cols_X_train = X_train.shape\n",
    "X_train.shape\n"
   ]
  },
  {
   "cell_type": "code",
   "execution_count": 36,
   "id": "9e5cbb83",
   "metadata": {
    "execution": {
     "iopub.execute_input": "2022-06-16T08:35:19.784655Z",
     "iopub.status.busy": "2022-06-16T08:35:19.784164Z",
     "iopub.status.idle": "2022-06-16T08:35:28.886710Z",
     "shell.execute_reply": "2022-06-16T08:35:28.885930Z"
    },
    "papermill": {
     "duration": 9.171559,
     "end_time": "2022-06-16T08:35:28.889267",
     "exception": false,
     "start_time": "2022-06-16T08:35:19.717708",
     "status": "completed"
    },
    "tags": []
   },
   "outputs": [
    {
     "name": "stderr",
     "output_type": "stream",
     "text": [
      "2022-06-16 08:35:25.448211: I tensorflow/stream_executor/cuda/cuda_gpu_executor.cc:937] successful NUMA node read from SysFS had negative value (-1), but there must be at least one NUMA node, so returning NUMA node zero\n",
      "2022-06-16 08:35:25.617417: I tensorflow/stream_executor/cuda/cuda_gpu_executor.cc:937] successful NUMA node read from SysFS had negative value (-1), but there must be at least one NUMA node, so returning NUMA node zero\n",
      "2022-06-16 08:35:25.618262: I tensorflow/stream_executor/cuda/cuda_gpu_executor.cc:937] successful NUMA node read from SysFS had negative value (-1), but there must be at least one NUMA node, so returning NUMA node zero\n",
      "2022-06-16 08:35:25.619628: I tensorflow/core/platform/cpu_feature_guard.cc:142] This TensorFlow binary is optimized with oneAPI Deep Neural Network Library (oneDNN) to use the following CPU instructions in performance-critical operations:  AVX2 AVX512F FMA\n",
      "To enable them in other operations, rebuild TensorFlow with the appropriate compiler flags.\n",
      "2022-06-16 08:35:25.620011: I tensorflow/stream_executor/cuda/cuda_gpu_executor.cc:937] successful NUMA node read from SysFS had negative value (-1), but there must be at least one NUMA node, so returning NUMA node zero\n",
      "2022-06-16 08:35:25.620797: I tensorflow/stream_executor/cuda/cuda_gpu_executor.cc:937] successful NUMA node read from SysFS had negative value (-1), but there must be at least one NUMA node, so returning NUMA node zero\n",
      "2022-06-16 08:35:25.621554: I tensorflow/stream_executor/cuda/cuda_gpu_executor.cc:937] successful NUMA node read from SysFS had negative value (-1), but there must be at least one NUMA node, so returning NUMA node zero\n",
      "2022-06-16 08:35:28.033511: I tensorflow/stream_executor/cuda/cuda_gpu_executor.cc:937] successful NUMA node read from SysFS had negative value (-1), but there must be at least one NUMA node, so returning NUMA node zero\n",
      "2022-06-16 08:35:28.034420: I tensorflow/stream_executor/cuda/cuda_gpu_executor.cc:937] successful NUMA node read from SysFS had negative value (-1), but there must be at least one NUMA node, so returning NUMA node zero\n",
      "2022-06-16 08:35:28.035098: I tensorflow/stream_executor/cuda/cuda_gpu_executor.cc:937] successful NUMA node read from SysFS had negative value (-1), but there must be at least one NUMA node, so returning NUMA node zero\n",
      "2022-06-16 08:35:28.036635: I tensorflow/core/common_runtime/gpu/gpu_device.cc:1510] Created device /job:localhost/replica:0/task:0/device:GPU:0 with 15403 MB memory:  -> device: 0, name: Tesla P100-PCIE-16GB, pci bus id: 0000:00:04.0, compute capability: 6.0\n"
     ]
    }
   ],
   "source": [
    "from keras.models import Sequential\n",
    "from keras.layers import Dense\n",
    "from keras.layers import Dropout\n",
    "from keras.layers import Flatten\n",
    "from tensorflow.keras.optimizers import Adam\n",
    "from keras.utils import np_utils\n",
    "model = Sequential()\n",
    "model.add(Dense(units = 200 , activation = 'relu' , input_shape = (rows_X_train, cols_X_train)))\n",
    "model.add(Dense(units = 150 , activation = 'relu'))\n",
    "model.add(Dense(units = 100 , activation = 'relu'))\n",
    "model.add(Dense(units = 30 , activation = 'relu'))\n",
    "model.add(Dense(units = 1 , activation = 'sigmoid'))"
   ]
  },
  {
   "cell_type": "code",
   "execution_count": 37,
   "id": "3c382ec0",
   "metadata": {
    "execution": {
     "iopub.execute_input": "2022-06-16T08:35:29.026496Z",
     "iopub.status.busy": "2022-06-16T08:35:29.026234Z",
     "iopub.status.idle": "2022-06-16T08:35:29.039432Z",
     "shell.execute_reply": "2022-06-16T08:35:29.038693Z"
    },
    "papermill": {
     "duration": 0.083347,
     "end_time": "2022-06-16T08:35:29.041298",
     "exception": false,
     "start_time": "2022-06-16T08:35:28.957951",
     "status": "completed"
    },
    "tags": []
   },
   "outputs": [],
   "source": [
    "\n",
    "model.compile(optimizer = 'adam' , loss = 'binary_crossentropy' , metrics = ['accuracy'])"
   ]
  },
  {
   "cell_type": "code",
   "execution_count": 38,
   "id": "90615df0",
   "metadata": {
    "execution": {
     "iopub.execute_input": "2022-06-16T08:35:29.176865Z",
     "iopub.status.busy": "2022-06-16T08:35:29.176252Z",
     "iopub.status.idle": "2022-06-16T08:37:34.804597Z",
     "shell.execute_reply": "2022-06-16T08:37:34.803838Z"
    },
    "papermill": {
     "duration": 125.698482,
     "end_time": "2022-06-16T08:37:34.806589",
     "exception": false,
     "start_time": "2022-06-16T08:35:29.108107",
     "status": "completed"
    },
    "tags": []
   },
   "outputs": [
    {
     "name": "stderr",
     "output_type": "stream",
     "text": [
      "2022-06-16 08:35:29.795781: W tensorflow/core/framework/cpu_allocator_impl.cc:80] Allocation of 1436720000 exceeds 10% of free system memory.\n",
      "2022-06-16 08:35:31.449054: W tensorflow/core/framework/cpu_allocator_impl.cc:80] Allocation of 1436720000 exceeds 10% of free system memory.\n",
      "2022-06-16 08:35:32.586451: I tensorflow/compiler/mlir/mlir_graph_optimization_pass.cc:185] None of the MLIR Optimization Passes are enabled (registered 2)\n"
     ]
    },
    {
     "name": "stdout",
     "output_type": "stream",
     "text": [
      "Epoch 1/26\n",
      "1123/1123 [==============================] - 7s 5ms/step - loss: 0.0565 - accuracy: 0.9803 - val_loss: 0.0269 - val_accuracy: 0.9905\n",
      "Epoch 2/26\n",
      "1123/1123 [==============================] - 5s 5ms/step - loss: 0.0076 - accuracy: 0.9975 - val_loss: 0.0310 - val_accuracy: 0.9918\n",
      "Epoch 3/26\n",
      "1123/1123 [==============================] - 4s 4ms/step - loss: 0.0048 - accuracy: 0.9985 - val_loss: 0.0291 - val_accuracy: 0.9932\n",
      "Epoch 4/26\n",
      "1123/1123 [==============================] - 5s 4ms/step - loss: 0.0024 - accuracy: 0.9990 - val_loss: 0.0380 - val_accuracy: 0.9924\n",
      "Epoch 5/26\n",
      "1123/1123 [==============================] - 4s 4ms/step - loss: 8.0937e-04 - accuracy: 0.9998 - val_loss: 0.0422 - val_accuracy: 0.9938\n",
      "Epoch 6/26\n",
      "1123/1123 [==============================] - 4s 4ms/step - loss: 8.1469e-04 - accuracy: 0.9998 - val_loss: 0.0385 - val_accuracy: 0.9924\n",
      "Epoch 7/26\n",
      "1123/1123 [==============================] - 5s 4ms/step - loss: 0.0019 - accuracy: 0.9995 - val_loss: 0.0531 - val_accuracy: 0.9915\n",
      "Epoch 8/26\n",
      "1123/1123 [==============================] - 4s 4ms/step - loss: 0.0019 - accuracy: 0.9994 - val_loss: 0.0461 - val_accuracy: 0.9932\n",
      "Epoch 9/26\n",
      "1123/1123 [==============================] - 5s 5ms/step - loss: 0.0013 - accuracy: 0.9996 - val_loss: 0.0455 - val_accuracy: 0.9935\n",
      "Epoch 10/26\n",
      "1123/1123 [==============================] - 4s 4ms/step - loss: 1.0399e-04 - accuracy: 1.0000 - val_loss: 0.0527 - val_accuracy: 0.9938\n",
      "Epoch 11/26\n",
      "1123/1123 [==============================] - 4s 4ms/step - loss: 3.8722e-06 - accuracy: 1.0000 - val_loss: 0.0645 - val_accuracy: 0.9932\n",
      "Epoch 12/26\n",
      "1123/1123 [==============================] - 5s 4ms/step - loss: 3.2116e-07 - accuracy: 1.0000 - val_loss: 0.0649 - val_accuracy: 0.9932\n",
      "Epoch 13/26\n",
      "1123/1123 [==============================] - 5s 4ms/step - loss: 1.4272e-07 - accuracy: 1.0000 - val_loss: 0.0657 - val_accuracy: 0.9933\n",
      "Epoch 14/26\n",
      "1123/1123 [==============================] - 5s 4ms/step - loss: 8.1853e-08 - accuracy: 1.0000 - val_loss: 0.0667 - val_accuracy: 0.9935\n",
      "Epoch 15/26\n",
      "1123/1123 [==============================] - 4s 4ms/step - loss: 4.8995e-08 - accuracy: 1.0000 - val_loss: 0.0681 - val_accuracy: 0.9937\n",
      "Epoch 16/26\n",
      "1123/1123 [==============================] - 5s 4ms/step - loss: 2.9086e-08 - accuracy: 1.0000 - val_loss: 0.0697 - val_accuracy: 0.9937\n",
      "Epoch 17/26\n",
      "1123/1123 [==============================] - 4s 4ms/step - loss: 1.7209e-08 - accuracy: 1.0000 - val_loss: 0.0716 - val_accuracy: 0.9935\n",
      "Epoch 18/26\n",
      "1123/1123 [==============================] - 4s 4ms/step - loss: 1.0088e-08 - accuracy: 1.0000 - val_loss: 0.0735 - val_accuracy: 0.9935\n",
      "Epoch 19/26\n",
      "1123/1123 [==============================] - 4s 4ms/step - loss: 6.0739e-09 - accuracy: 1.0000 - val_loss: 0.0758 - val_accuracy: 0.9935\n",
      "Epoch 20/26\n",
      "1123/1123 [==============================] - 5s 4ms/step - loss: 3.6075e-09 - accuracy: 1.0000 - val_loss: 0.0780 - val_accuracy: 0.9935\n",
      "Epoch 21/26\n",
      "1123/1123 [==============================] - 5s 5ms/step - loss: 2.1919e-09 - accuracy: 1.0000 - val_loss: 0.0801 - val_accuracy: 0.9937\n",
      "Epoch 22/26\n",
      "1123/1123 [==============================] - 4s 4ms/step - loss: 1.3684e-09 - accuracy: 1.0000 - val_loss: 0.0822 - val_accuracy: 0.9937\n",
      "Epoch 23/26\n",
      "1123/1123 [==============================] - 5s 4ms/step - loss: 8.7055e-10 - accuracy: 1.0000 - val_loss: 0.0842 - val_accuracy: 0.9937\n",
      "Epoch 24/26\n",
      "1123/1123 [==============================] - 5s 5ms/step - loss: 5.7341e-10 - accuracy: 1.0000 - val_loss: 0.0862 - val_accuracy: 0.9937\n",
      "Epoch 25/26\n",
      "1123/1123 [==============================] - 4s 4ms/step - loss: 3.8819e-10 - accuracy: 1.0000 - val_loss: 0.0879 - val_accuracy: 0.9937\n",
      "Epoch 26/26\n",
      "1123/1123 [==============================] - 5s 4ms/step - loss: 2.7046e-10 - accuracy: 1.0000 - val_loss: 0.0896 - val_accuracy: 0.9937\n"
     ]
    }
   ],
   "source": [
    "istoric = model.fit(x=X_train, y=y_train, epochs=26, verbose = True, validation_data = (X_test,y_test))"
   ]
  },
  {
   "cell_type": "code",
   "execution_count": 39,
   "id": "d1e4e1f5",
   "metadata": {
    "execution": {
     "iopub.execute_input": "2022-06-16T08:37:36.270597Z",
     "iopub.status.busy": "2022-06-16T08:37:36.269815Z",
     "iopub.status.idle": "2022-06-16T08:37:36.275338Z",
     "shell.execute_reply": "2022-06-16T08:37:36.274570Z"
    },
    "papermill": {
     "duration": 0.741695,
     "end_time": "2022-06-16T08:37:36.278363",
     "exception": false,
     "start_time": "2022-06-16T08:37:35.536668",
     "status": "completed"
    },
    "tags": []
   },
   "outputs": [
    {
     "name": "stdout",
     "output_type": "stream",
     "text": [
      "dict_keys(['loss', 'accuracy', 'val_loss', 'val_accuracy'])\n"
     ]
    }
   ],
   "source": [
    "print(istoric.history.keys())"
   ]
  },
  {
   "cell_type": "code",
   "execution_count": 40,
   "id": "285786af",
   "metadata": {
    "execution": {
     "iopub.execute_input": "2022-06-16T08:37:37.737384Z",
     "iopub.status.busy": "2022-06-16T08:37:37.737106Z",
     "iopub.status.idle": "2022-06-16T08:37:37.741757Z",
     "shell.execute_reply": "2022-06-16T08:37:37.740938Z"
    },
    "papermill": {
     "duration": 0.723597,
     "end_time": "2022-06-16T08:37:37.744849",
     "exception": false,
     "start_time": "2022-06-16T08:37:37.021252",
     "status": "completed"
    },
    "tags": []
   },
   "outputs": [
    {
     "name": "stdout",
     "output_type": "stream",
     "text": [
      "[0.9802884459495544, 0.9974942803382874, 0.9984687566757202, 0.9990255832672119, 0.9998050928115845, 0.9998329281806946, 0.9994710087776184, 0.999359667301178, 0.9996380805969238, 0.9999721646308899, 1.0, 1.0, 1.0, 1.0, 1.0, 1.0, 1.0, 1.0, 1.0, 1.0, 1.0, 1.0, 1.0, 1.0, 1.0, 1.0]\n"
     ]
    }
   ],
   "source": [
    "print(istoric.history['accuracy'])"
   ]
  },
  {
   "cell_type": "code",
   "execution_count": 41,
   "id": "45f73880",
   "metadata": {
    "execution": {
     "iopub.execute_input": "2022-06-16T08:37:39.226323Z",
     "iopub.status.busy": "2022-06-16T08:37:39.226069Z",
     "iopub.status.idle": "2022-06-16T08:37:39.234687Z",
     "shell.execute_reply": "2022-06-16T08:37:39.233831Z"
    },
    "papermill": {
     "duration": 0.771365,
     "end_time": "2022-06-16T08:37:39.237597",
     "exception": false,
     "start_time": "2022-06-16T08:37:38.466232",
     "status": "completed"
    },
    "tags": []
   },
   "outputs": [
    {
     "name": "stdout",
     "output_type": "stream",
     "text": [
      "Model: \"sequential\"\n",
      "_________________________________________________________________\n",
      "Layer (type)                 Output Shape              Param #   \n",
      "=================================================================\n",
      "dense (Dense)                (None, 35918, 200)        2000200   \n",
      "_________________________________________________________________\n",
      "dense_1 (Dense)              (None, 35918, 150)        30150     \n",
      "_________________________________________________________________\n",
      "dense_2 (Dense)              (None, 35918, 100)        15100     \n",
      "_________________________________________________________________\n",
      "dense_3 (Dense)              (None, 35918, 30)         3030      \n",
      "_________________________________________________________________\n",
      "dense_4 (Dense)              (None, 35918, 1)          31        \n",
      "=================================================================\n",
      "Total params: 2,048,511\n",
      "Trainable params: 2,048,511\n",
      "Non-trainable params: 0\n",
      "_________________________________________________________________\n"
     ]
    }
   ],
   "source": [
    "model.summary()"
   ]
  },
  {
   "cell_type": "code",
   "execution_count": 42,
   "id": "3a00b185",
   "metadata": {
    "execution": {
     "iopub.execute_input": "2022-06-16T08:37:40.786802Z",
     "iopub.status.busy": "2022-06-16T08:37:40.786520Z",
     "iopub.status.idle": "2022-06-16T08:37:49.279310Z",
     "shell.execute_reply": "2022-06-16T08:37:49.278575Z"
    },
    "papermill": {
     "duration": 9.31846,
     "end_time": "2022-06-16T08:37:49.281339",
     "exception": false,
     "start_time": "2022-06-16T08:37:39.962879",
     "status": "completed"
    },
    "tags": []
   },
   "outputs": [
    {
     "name": "stderr",
     "output_type": "stream",
     "text": [
      "2022-06-16 08:37:41.355170: W tensorflow/core/framework/cpu_allocator_impl.cc:80] Allocation of 1436720000 exceeds 10% of free system memory.\n",
      "2022-06-16 08:37:42.907348: W tensorflow/core/framework/cpu_allocator_impl.cc:80] Allocation of 1436720000 exceeds 10% of free system memory.\n"
     ]
    },
    {
     "name": "stdout",
     "output_type": "stream",
     "text": [
      "1123/1123 [==============================] - 3s 2ms/step - loss: 2.2235e-10 - accuracy: 1.0000\n"
     ]
    },
    {
     "data": {
      "text/plain": [
       "100.0"
      ]
     },
     "execution_count": 42,
     "metadata": {},
     "output_type": "execute_result"
    }
   ],
   "source": [
    "model.evaluate(X_train,y_train)[1]*100"
   ]
  },
  {
   "cell_type": "code",
   "execution_count": 43,
   "id": "4b8ed3cb",
   "metadata": {
    "execution": {
     "iopub.execute_input": "2022-06-16T08:37:50.764762Z",
     "iopub.status.busy": "2022-06-16T08:37:50.764490Z",
     "iopub.status.idle": "2022-06-16T08:37:52.359528Z",
     "shell.execute_reply": "2022-06-16T08:37:52.358666Z"
    },
    "papermill": {
     "duration": 2.331704,
     "end_time": "2022-06-16T08:37:52.361830",
     "exception": false,
     "start_time": "2022-06-16T08:37:50.030126",
     "status": "completed"
    },
    "tags": []
   },
   "outputs": [],
   "source": [
    "predictii_model = (model.predict(X_test) > 0.5).astype(\"int32\")\n"
   ]
  },
  {
   "cell_type": "code",
   "execution_count": 44,
   "id": "9179741a",
   "metadata": {
    "execution": {
     "iopub.execute_input": "2022-06-16T08:37:54.682048Z",
     "iopub.status.busy": "2022-06-16T08:37:54.681592Z",
     "iopub.status.idle": "2022-06-16T08:37:54.688261Z",
     "shell.execute_reply": "2022-06-16T08:37:54.687359Z"
    },
    "papermill": {
     "duration": 1.563501,
     "end_time": "2022-06-16T08:37:54.693455",
     "exception": false,
     "start_time": "2022-06-16T08:37:53.129954",
     "status": "completed"
    },
    "tags": []
   },
   "outputs": [
    {
     "data": {
      "text/plain": [
       "array([[0],\n",
       "       [1],\n",
       "       [0],\n",
       "       [0],\n",
       "       [1]], dtype=int32)"
      ]
     },
     "execution_count": 44,
     "metadata": {},
     "output_type": "execute_result"
    }
   ],
   "source": [
    "predictii_model[:5]"
   ]
  },
  {
   "cell_type": "code",
   "execution_count": 45,
   "id": "444fef25",
   "metadata": {
    "execution": {
     "iopub.execute_input": "2022-06-16T08:37:56.272201Z",
     "iopub.status.busy": "2022-06-16T08:37:56.271946Z",
     "iopub.status.idle": "2022-06-16T08:37:56.281666Z",
     "shell.execute_reply": "2022-06-16T08:37:56.280591Z"
    },
    "papermill": {
     "duration": 0.765665,
     "end_time": "2022-06-16T08:37:56.284415",
     "exception": false,
     "start_time": "2022-06-16T08:37:55.518750",
     "status": "completed"
    },
    "tags": []
   },
   "outputs": [
    {
     "name": "stdout",
     "output_type": "stream",
     "text": [
      "acuratete:  0.9937315747825051\n"
     ]
    }
   ],
   "source": [
    "print('acuratete: ', roc_auc_score(y_test, predictii_model))"
   ]
  },
  {
   "cell_type": "code",
   "execution_count": 46,
   "id": "d9f809c0",
   "metadata": {
    "execution": {
     "iopub.execute_input": "2022-06-16T08:37:57.778142Z",
     "iopub.status.busy": "2022-06-16T08:37:57.777867Z",
     "iopub.status.idle": "2022-06-16T08:37:57.786132Z",
     "shell.execute_reply": "2022-06-16T08:37:57.785284Z"
    },
    "papermill": {
     "duration": 0.764055,
     "end_time": "2022-06-16T08:37:57.788041",
     "exception": false,
     "start_time": "2022-06-16T08:37:57.023986",
     "status": "completed"
    },
    "tags": []
   },
   "outputs": [
    {
     "data": {
      "text/plain": [
       "array([[4644,   38],\n",
       "       [  19, 4279]])"
      ]
     },
     "execution_count": 46,
     "metadata": {},
     "output_type": "execute_result"
    }
   ],
   "source": [
    "\n",
    "from sklearn.metrics import confusion_matrix\n",
    "cm = confusion_matrix(y_test,predictii_model)\n",
    "cm\n",
    "\n"
   ]
  },
  {
   "cell_type": "code",
   "execution_count": 47,
   "id": "c1dc4f6b",
   "metadata": {
    "execution": {
     "iopub.execute_input": "2022-06-16T08:37:59.307691Z",
     "iopub.status.busy": "2022-06-16T08:37:59.307411Z",
     "iopub.status.idle": "2022-06-16T08:37:59.313977Z",
     "shell.execute_reply": "2022-06-16T08:37:59.313308Z"
    },
    "papermill": {
     "duration": 0.771764,
     "end_time": "2022-06-16T08:37:59.315837",
     "exception": false,
     "start_time": "2022-06-16T08:37:58.544073",
     "status": "completed"
    },
    "tags": []
   },
   "outputs": [],
   "source": [
    "from sklearn.naive_bayes import MultinomialNB"
   ]
  },
  {
   "cell_type": "code",
   "execution_count": 48,
   "id": "0181c8e2",
   "metadata": {
    "execution": {
     "iopub.execute_input": "2022-06-16T08:38:00.836818Z",
     "iopub.status.busy": "2022-06-16T08:38:00.836538Z",
     "iopub.status.idle": "2022-06-16T08:38:00.841151Z",
     "shell.execute_reply": "2022-06-16T08:38:00.840345Z"
    },
    "papermill": {
     "duration": 0.776981,
     "end_time": "2022-06-16T08:38:00.843129",
     "exception": false,
     "start_time": "2022-06-16T08:38:00.066148",
     "status": "completed"
    },
    "tags": []
   },
   "outputs": [],
   "source": [
    "mnb = MultinomialNB(alpha=0.1) "
   ]
  },
  {
   "cell_type": "code",
   "execution_count": 49,
   "id": "94faa132",
   "metadata": {
    "execution": {
     "iopub.execute_input": "2022-06-16T08:38:02.397223Z",
     "iopub.status.busy": "2022-06-16T08:38:02.396968Z",
     "iopub.status.idle": "2022-06-16T08:38:03.469441Z",
     "shell.execute_reply": "2022-06-16T08:38:03.468743Z"
    },
    "papermill": {
     "duration": 1.862066,
     "end_time": "2022-06-16T08:38:03.471913",
     "exception": false,
     "start_time": "2022-06-16T08:38:01.609847",
     "status": "completed"
    },
    "tags": []
   },
   "outputs": [
    {
     "data": {
      "text/plain": [
       "MultinomialNB(alpha=0.1)"
      ]
     },
     "execution_count": 49,
     "metadata": {},
     "output_type": "execute_result"
    }
   ],
   "source": [
    "mnb.fit(X_train, y_train)"
   ]
  },
  {
   "cell_type": "code",
   "execution_count": 50,
   "id": "993b9835",
   "metadata": {
    "execution": {
     "iopub.execute_input": "2022-06-16T08:38:05.051626Z",
     "iopub.status.busy": "2022-06-16T08:38:05.051336Z",
     "iopub.status.idle": "2022-06-16T08:38:05.434597Z",
     "shell.execute_reply": "2022-06-16T08:38:05.433647Z"
    },
    "papermill": {
     "duration": 1.159219,
     "end_time": "2022-06-16T08:38:05.437724",
     "exception": false,
     "start_time": "2022-06-16T08:38:04.278505",
     "status": "completed"
    },
    "tags": []
   },
   "outputs": [],
   "source": [
    "y_prezis = mnb.predict(X_test)"
   ]
  },
  {
   "cell_type": "code",
   "execution_count": 51,
   "id": "4b94b236",
   "metadata": {
    "execution": {
     "iopub.execute_input": "2022-06-16T08:38:07.304029Z",
     "iopub.status.busy": "2022-06-16T08:38:07.303752Z",
     "iopub.status.idle": "2022-06-16T08:38:07.309678Z",
     "shell.execute_reply": "2022-06-16T08:38:07.308970Z"
    },
    "papermill": {
     "duration": 0.815777,
     "end_time": "2022-06-16T08:38:07.312478",
     "exception": false,
     "start_time": "2022-06-16T08:38:06.496701",
     "status": "completed"
    },
    "tags": []
   },
   "outputs": [
    {
     "data": {
      "text/plain": [
       "array([0, 1, 0, 0, 1])"
      ]
     },
     "execution_count": 51,
     "metadata": {},
     "output_type": "execute_result"
    }
   ],
   "source": [
    "y_prezis[:5]"
   ]
  },
  {
   "cell_type": "code",
   "execution_count": 52,
   "id": "3f366b32",
   "metadata": {
    "execution": {
     "iopub.execute_input": "2022-06-16T08:38:08.831955Z",
     "iopub.status.busy": "2022-06-16T08:38:08.831526Z",
     "iopub.status.idle": "2022-06-16T08:38:08.839994Z",
     "shell.execute_reply": "2022-06-16T08:38:08.839070Z"
    },
    "papermill": {
     "duration": 0.756577,
     "end_time": "2022-06-16T08:38:08.842523",
     "exception": false,
     "start_time": "2022-06-16T08:38:08.085946",
     "status": "completed"
    },
    "tags": []
   },
   "outputs": [
    {
     "name": "stdout",
     "output_type": "stream",
     "text": [
      "acuratete:  0.9549191790028205\n"
     ]
    }
   ],
   "source": [
    "print('acuratete: ', roc_auc_score(y_test, y_prezis))"
   ]
  },
  {
   "cell_type": "code",
   "execution_count": 53,
   "id": "7cd47b94",
   "metadata": {
    "execution": {
     "iopub.execute_input": "2022-06-16T08:38:10.338488Z",
     "iopub.status.busy": "2022-06-16T08:38:10.338228Z",
     "iopub.status.idle": "2022-06-16T08:38:10.341806Z",
     "shell.execute_reply": "2022-06-16T08:38:10.341151Z"
    },
    "papermill": {
     "duration": 0.762392,
     "end_time": "2022-06-16T08:38:10.343519",
     "exception": false,
     "start_time": "2022-06-16T08:38:09.581127",
     "status": "completed"
    },
    "tags": []
   },
   "outputs": [],
   "source": [
    "from sklearn.metrics import classification_report"
   ]
  },
  {
   "cell_type": "code",
   "execution_count": 54,
   "id": "0c5dc081",
   "metadata": {
    "execution": {
     "iopub.execute_input": "2022-06-16T08:38:11.866904Z",
     "iopub.status.busy": "2022-06-16T08:38:11.866319Z",
     "iopub.status.idle": "2022-06-16T08:38:11.874648Z",
     "shell.execute_reply": "2022-06-16T08:38:11.873723Z"
    },
    "papermill": {
     "duration": 0.803854,
     "end_time": "2022-06-16T08:38:11.877447",
     "exception": false,
     "start_time": "2022-06-16T08:38:11.073593",
     "status": "completed"
    },
    "tags": []
   },
   "outputs": [
    {
     "name": "stdout",
     "output_type": "stream",
     "text": [
      "[[4481  201]\n",
      " [ 203 4095]]\n"
     ]
    }
   ],
   "source": [
    "print(confusion_matrix(y_test, y_prezis, labels=[0, 1]))"
   ]
  },
  {
   "cell_type": "code",
   "execution_count": 55,
   "id": "317ce145",
   "metadata": {
    "execution": {
     "iopub.execute_input": "2022-06-16T08:38:13.424548Z",
     "iopub.status.busy": "2022-06-16T08:38:13.424290Z",
     "iopub.status.idle": "2022-06-16T08:38:13.430531Z",
     "shell.execute_reply": "2022-06-16T08:38:13.429824Z"
    },
    "papermill": {
     "duration": 0.76826,
     "end_time": "2022-06-16T08:38:13.432561",
     "exception": false,
     "start_time": "2022-06-16T08:38:12.664301",
     "status": "completed"
    },
    "tags": []
   },
   "outputs": [],
   "source": [
    "cm = confusion_matrix(y_test, y_prezis , labels=[0, 1])"
   ]
  },
  {
   "cell_type": "code",
   "execution_count": 56,
   "id": "8f1116e8",
   "metadata": {
    "execution": {
     "iopub.execute_input": "2022-06-16T08:38:14.920552Z",
     "iopub.status.busy": "2022-06-16T08:38:14.920009Z",
     "iopub.status.idle": "2022-06-16T08:38:15.163370Z",
     "shell.execute_reply": "2022-06-16T08:38:15.162710Z"
    },
    "papermill": {
     "duration": 0.994744,
     "end_time": "2022-06-16T08:38:15.165307",
     "exception": false,
     "start_time": "2022-06-16T08:38:14.170563",
     "status": "completed"
    },
    "tags": []
   },
   "outputs": [
    {
     "data": {
      "text/plain": [
       "<AxesSubplot:>"
      ]
     },
     "execution_count": 56,
     "metadata": {},
     "output_type": "execute_result"
    },
    {
     "data": {
      "image/png": "[encoded data removed]",
      "text/plain": [
       "<Figure size 432x288 with 2 Axes>"
      ]
     },
     "metadata": {},
     "output_type": "display_data"
    }
   ],
   "source": [
    "ax= plot.subplot()\n",
    "seaborn.heatmap(cm, annot=True, ax= ax)"
   ]
  }
 ],
 "metadata": {
  "kernelspec": {
   "display_name": "Python 3",
   "language": "python",
   "name": "python3"
  },
  "language_info": {
   "codemirror_mode": {
    "name": "ipython",
    "version": 3
   },
   "file_extension": ".py",
   "mimetype": "text/x-python",
   "name": "python",
   "nbconvert_exporter": "python",
   "pygments_lexer": "ipython3",
   "version": "3.7.12"
  },
  "papermill": {
   "default_parameters": {},
   "duration": 275.636299,
   "end_time": "2022-06-16T08:38:18.651022",
   "environment_variables": {},
   "exception": null,
   "input_path": "__notebook__.ipynb",
   "output_path": "__notebook__.ipynb",
   "parameters": {},
   "start_time": "2022-06-16T08:33:43.014723",
   "version": "2.3.4"
  }
 },
 "nbformat": 4,
 "nbformat_minor": 5
}
