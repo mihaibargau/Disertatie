{
 "cells": [
  {
   "cell_type": "code",
   "execution_count": 1,
   "id": "39a24136",
   "metadata": {
    "_cell_guid": "b1076dfc-b9ad-4769-8c92-a6c4dae69d19",
    "_uuid": "8f2839f25d086af736a60e9eeb907d3b93b6e0e5",
    "execution": {
     "iopub.execute_input": "2022-08-24T18:45:41.075347Z",
     "iopub.status.busy": "2022-08-24T18:45:41.074802Z",
     "iopub.status.idle": "2022-08-24T18:45:41.099768Z",
     "shell.execute_reply": "2022-08-24T18:45:41.098582Z"
    },
    "papermill": {
     "duration": 0.058896,
     "end_time": "2022-08-24T18:45:41.102810",
     "exception": false,
     "start_time": "2022-08-24T18:45:41.043914",
     "status": "completed"
    },
    "tags": []
   },
   "outputs": [
    {
     "name": "stdout",
     "output_type": "stream",
     "text": [
      "/kaggle/input/fake-and-real-news-dataset/True.csv\n",
      "/kaggle/input/fake-and-real-news-dataset/Fake.csv\n"
     ]
    }
   ],
   "source": [
    "import numpy as np\n",
    "import pandas as pd \n",
    "import os\n",
    "for dirname, _, filenames in os.walk('/kaggle/input'):\n",
    "    for filename in filenames:\n",
    "        print(os.path.join(dirname, filename))"
   ]
  },
  {
   "cell_type": "code",
   "execution_count": 2,
   "id": "7fcdc3b6",
   "metadata": {
    "execution": {
     "iopub.execute_input": "2022-08-24T18:45:41.138969Z",
     "iopub.status.busy": "2022-08-24T18:45:41.138684Z",
     "iopub.status.idle": "2022-08-24T18:45:42.234136Z",
     "shell.execute_reply": "2022-08-24T18:45:42.233086Z"
    },
    "papermill": {
     "duration": 1.116233,
     "end_time": "2022-08-24T18:45:42.236549",
     "exception": false,
     "start_time": "2022-08-24T18:45:41.120316",
     "status": "completed"
    },
    "tags": []
   },
   "outputs": [],
   "source": [
    "import matplotlib.pyplot as plot\n",
    "import seaborn\n",
    "from sklearn.metrics import roc_auc_score\n",
    "#nltk.download('stopwords')"
   ]
  },
  {
   "cell_type": "code",
   "execution_count": 3,
   "id": "cabcf4d4",
   "metadata": {
    "execution": {
     "iopub.execute_input": "2022-08-24T18:45:42.262409Z",
     "iopub.status.busy": "2022-08-24T18:45:42.261729Z",
     "iopub.status.idle": "2022-08-24T18:45:44.914078Z",
     "shell.execute_reply": "2022-08-24T18:45:44.912955Z"
    },
    "papermill": {
     "duration": 2.667317,
     "end_time": "2022-08-24T18:45:44.916796",
     "exception": false,
     "start_time": "2022-08-24T18:45:42.249479",
     "status": "completed"
    },
    "tags": []
   },
   "outputs": [],
   "source": [
    "stiri_adevarate = pd.read_csv(\"../input/fake-and-real-news-dataset/True.csv\")\n",
    "stiri_false = pd.read_csv(\"../input/fake-and-real-news-dataset/Fake.csv\")"
   ]
  },
  {
   "cell_type": "code",
   "execution_count": 4,
   "id": "840c7a97",
   "metadata": {
    "execution": {
     "iopub.execute_input": "2022-08-24T18:45:44.941581Z",
     "iopub.status.busy": "2022-08-24T18:45:44.941256Z",
     "iopub.status.idle": "2022-08-24T18:45:44.959442Z",
     "shell.execute_reply": "2022-08-24T18:45:44.958380Z"
    },
    "papermill": {
     "duration": 0.033595,
     "end_time": "2022-08-24T18:45:44.962310",
     "exception": false,
     "start_time": "2022-08-24T18:45:44.928715",
     "status": "completed"
    },
    "tags": []
   },
   "outputs": [
    {
     "data": {
      "text/html": [
       "<div>\n",
       "<style scoped>\n",
       "    .dataframe tbody tr th:only-of-type {\n",
       "        vertical-align: middle;\n",
       "    }\n",
       "\n",
       "    .dataframe tbody tr th {\n",
       "        vertical-align: top;\n",
       "    }\n",
       "\n",
       "    .dataframe thead th {\n",
       "        text-align: right;\n",
       "    }\n",
       "</style>\n",
       "<table border=\"1\" class=\"dataframe\">\n",
       "  <thead>\n",
       "    <tr style=\"text-align: right;\">\n",
       "      <th></th>\n",
       "      <th>title</th>\n",
       "      <th>text</th>\n",
       "      <th>subject</th>\n",
       "      <th>date</th>\n",
       "    </tr>\n",
       "  </thead>\n",
       "  <tbody>\n",
       "    <tr>\n",
       "      <th>0</th>\n",
       "      <td>As U.S. budget fight looms, Republicans flip t...</td>\n",
       "      <td>WASHINGTON (Reuters) - The head of a conservat...</td>\n",
       "      <td>politicsNews</td>\n",
       "      <td>December 31, 2017</td>\n",
       "    </tr>\n",
       "    <tr>\n",
       "      <th>1</th>\n",
       "      <td>U.S. military to accept transgender recruits o...</td>\n",
       "      <td>WASHINGTON (Reuters) - Transgender people will...</td>\n",
       "      <td>politicsNews</td>\n",
       "      <td>December 29, 2017</td>\n",
       "    </tr>\n",
       "    <tr>\n",
       "      <th>2</th>\n",
       "      <td>Senior U.S. Republican senator: 'Let Mr. Muell...</td>\n",
       "      <td>WASHINGTON (Reuters) - The special counsel inv...</td>\n",
       "      <td>politicsNews</td>\n",
       "      <td>December 31, 2017</td>\n",
       "    </tr>\n",
       "    <tr>\n",
       "      <th>3</th>\n",
       "      <td>FBI Russia probe helped by Australian diplomat...</td>\n",
       "      <td>WASHINGTON (Reuters) - Trump campaign adviser ...</td>\n",
       "      <td>politicsNews</td>\n",
       "      <td>December 30, 2017</td>\n",
       "    </tr>\n",
       "    <tr>\n",
       "      <th>4</th>\n",
       "      <td>Trump wants Postal Service to charge 'much mor...</td>\n",
       "      <td>SEATTLE/WASHINGTON (Reuters) - President Donal...</td>\n",
       "      <td>politicsNews</td>\n",
       "      <td>December 29, 2017</td>\n",
       "    </tr>\n",
       "  </tbody>\n",
       "</table>\n",
       "</div>"
      ],
      "text/plain": [
       "                                               title  \\\n",
       "0  As U.S. budget fight looms, Republicans flip t...   \n",
       "1  U.S. military to accept transgender recruits o...   \n",
       "2  Senior U.S. Republican senator: 'Let Mr. Muell...   \n",
       "3  FBI Russia probe helped by Australian diplomat...   \n",
       "4  Trump wants Postal Service to charge 'much mor...   \n",
       "\n",
       "                                                text       subject  \\\n",
       "0  WASHINGTON (Reuters) - The head of a conservat...  politicsNews   \n",
       "1  WASHINGTON (Reuters) - Transgender people will...  politicsNews   \n",
       "2  WASHINGTON (Reuters) - The special counsel inv...  politicsNews   \n",
       "3  WASHINGTON (Reuters) - Trump campaign adviser ...  politicsNews   \n",
       "4  SEATTLE/WASHINGTON (Reuters) - President Donal...  politicsNews   \n",
       "\n",
       "                 date  \n",
       "0  December 31, 2017   \n",
       "1  December 29, 2017   \n",
       "2  December 31, 2017   \n",
       "3  December 30, 2017   \n",
       "4  December 29, 2017   "
      ]
     },
     "execution_count": 4,
     "metadata": {},
     "output_type": "execute_result"
    }
   ],
   "source": [
    "stiri_adevarate.head()"
   ]
  },
  {
   "cell_type": "code",
   "execution_count": 5,
   "id": "cbdff6a0",
   "metadata": {
    "execution": {
     "iopub.execute_input": "2022-08-24T18:45:44.986753Z",
     "iopub.status.busy": "2022-08-24T18:45:44.986462Z",
     "iopub.status.idle": "2022-08-24T18:45:45.204163Z",
     "shell.execute_reply": "2022-08-24T18:45:45.202991Z"
    },
    "papermill": {
     "duration": 0.232514,
     "end_time": "2022-08-24T18:45:45.206689",
     "exception": false,
     "start_time": "2022-08-24T18:45:44.974175",
     "status": "completed"
    },
    "tags": []
   },
   "outputs": [
    {
     "data": {
      "text/plain": [
       "<AxesSubplot:xlabel='subject', ylabel='count'>"
      ]
     },
     "execution_count": 5,
     "metadata": {},
     "output_type": "execute_result"
    },
    {
     "data": {
      "image/png": "[encoded data removed]",
      "text/plain": [
       "<Figure size 720x576 with 1 Axes>"
      ]
     },
     "metadata": {
      "needs_background": "light"
     },
     "output_type": "display_data"
    }
   ],
   "source": [
    "plot.figure(figsize=(10,8))\n",
    "seaborn.countplot(data = stiri_adevarate, x='subject')"
   ]
  },
  {
   "cell_type": "code",
   "execution_count": 6,
   "id": "9aad68d3",
   "metadata": {
    "execution": {
     "iopub.execute_input": "2022-08-24T18:45:45.233273Z",
     "iopub.status.busy": "2022-08-24T18:45:45.231534Z",
     "iopub.status.idle": "2022-08-24T18:45:45.437917Z",
     "shell.execute_reply": "2022-08-24T18:45:45.437002Z"
    },
    "papermill": {
     "duration": 0.221348,
     "end_time": "2022-08-24T18:45:45.440160",
     "exception": false,
     "start_time": "2022-08-24T18:45:45.218812",
     "status": "completed"
    },
    "tags": []
   },
   "outputs": [
    {
     "data": {
      "text/plain": [
       "<AxesSubplot:xlabel='subject', ylabel='count'>"
      ]
     },
     "execution_count": 6,
     "metadata": {},
     "output_type": "execute_result"
    },
    {
     "data": {
      "image/png": "[encoded data removed]",
      "text/plain": [
       "<Figure size 720x576 with 1 Axes>"
      ]
     },
     "metadata": {
      "needs_background": "light"
     },
     "output_type": "display_data"
    }
   ],
   "source": [
    "plot.figure(figsize=(10,8))\n",
    "seaborn.countplot(data = stiri_false, x='subject')"
   ]
  },
  {
   "cell_type": "code",
   "execution_count": 7,
   "id": "6410f765",
   "metadata": {
    "execution": {
     "iopub.execute_input": "2022-08-24T18:45:45.466081Z",
     "iopub.status.busy": "2022-08-24T18:45:45.465773Z",
     "iopub.status.idle": "2022-08-24T18:45:45.728136Z",
     "shell.execute_reply": "2022-08-24T18:45:45.726302Z"
    },
    "papermill": {
     "duration": 0.278318,
     "end_time": "2022-08-24T18:45:45.730870",
     "exception": false,
     "start_time": "2022-08-24T18:45:45.452552",
     "status": "completed"
    },
    "tags": []
   },
   "outputs": [
    {
     "data": {
      "text/plain": [
       "<AxesSubplot:xlabel='subject', ylabel='count'>"
      ]
     },
     "execution_count": 7,
     "metadata": {},
     "output_type": "execute_result"
    },
    {
     "data": {
      "image/png": "[encoded data removed]",
      "text/plain": [
       "<Figure size 1440x720 with 1 Axes>"
      ]
     },
     "metadata": {
      "needs_background": "light"
     },
     "output_type": "display_data"
    }
   ],
   "source": [
    "plot.figure(figsize=(20, 10))\n",
    "seaborn.countplot(x=\"subject\", data = pd.concat([stiri_false, stiri_adevarate]))"
   ]
  },
  {
   "cell_type": "code",
   "execution_count": 8,
   "id": "f0f39f90",
   "metadata": {
    "execution": {
     "iopub.execute_input": "2022-08-24T18:45:45.759659Z",
     "iopub.status.busy": "2022-08-24T18:45:45.758010Z",
     "iopub.status.idle": "2022-08-24T18:45:46.026258Z",
     "shell.execute_reply": "2022-08-24T18:45:46.025280Z"
    },
    "papermill": {
     "duration": 0.284697,
     "end_time": "2022-08-24T18:45:46.028901",
     "exception": false,
     "start_time": "2022-08-24T18:45:45.744204",
     "status": "completed"
    },
    "tags": []
   },
   "outputs": [],
   "source": [
    "stiri_adevarate[\"class\"] = 1\n",
    "stiri_false[\"class\"] = 0\n",
    "dataframe = pd.concat([stiri_false, stiri_adevarate])\n",
    "dataframe['text'] = dataframe['text'] + \" \" + dataframe['title']\n",
    "del dataframe['title']\n",
    "del dataframe['subject']\n",
    "del dataframe['date']"
   ]
  },
  {
   "cell_type": "code",
   "execution_count": 9,
   "id": "8859960e",
   "metadata": {
    "execution": {
     "iopub.execute_input": "2022-08-24T18:45:46.055944Z",
     "iopub.status.busy": "2022-08-24T18:45:46.055642Z",
     "iopub.status.idle": "2022-08-24T18:45:46.065125Z",
     "shell.execute_reply": "2022-08-24T18:45:46.064064Z"
    },
    "papermill": {
     "duration": 0.026444,
     "end_time": "2022-08-24T18:45:46.068446",
     "exception": false,
     "start_time": "2022-08-24T18:45:46.042002",
     "status": "completed"
    },
    "tags": []
   },
   "outputs": [
    {
     "data": {
      "text/html": [
       "<div>\n",
       "<style scoped>\n",
       "    .dataframe tbody tr th:only-of-type {\n",
       "        vertical-align: middle;\n",
       "    }\n",
       "\n",
       "    .dataframe tbody tr th {\n",
       "        vertical-align: top;\n",
       "    }\n",
       "\n",
       "    .dataframe thead th {\n",
       "        text-align: right;\n",
       "    }\n",
       "</style>\n",
       "<table border=\"1\" class=\"dataframe\">\n",
       "  <thead>\n",
       "    <tr style=\"text-align: right;\">\n",
       "      <th></th>\n",
       "      <th>text</th>\n",
       "      <th>class</th>\n",
       "    </tr>\n",
       "  </thead>\n",
       "  <tbody>\n",
       "    <tr>\n",
       "      <th>0</th>\n",
       "      <td>Donald Trump just couldn t wish all Americans ...</td>\n",
       "      <td>0</td>\n",
       "    </tr>\n",
       "    <tr>\n",
       "      <th>1</th>\n",
       "      <td>House Intelligence Committee Chairman Devin Nu...</td>\n",
       "      <td>0</td>\n",
       "    </tr>\n",
       "    <tr>\n",
       "      <th>2</th>\n",
       "      <td>On Friday, it was revealed that former Milwauk...</td>\n",
       "      <td>0</td>\n",
       "    </tr>\n",
       "    <tr>\n",
       "      <th>3</th>\n",
       "      <td>On Christmas day, Donald Trump announced that ...</td>\n",
       "      <td>0</td>\n",
       "    </tr>\n",
       "    <tr>\n",
       "      <th>4</th>\n",
       "      <td>Pope Francis used his annual Christmas Day mes...</td>\n",
       "      <td>0</td>\n",
       "    </tr>\n",
       "  </tbody>\n",
       "</table>\n",
       "</div>"
      ],
      "text/plain": [
       "                                                text  class\n",
       "0  Donald Trump just couldn t wish all Americans ...      0\n",
       "1  House Intelligence Committee Chairman Devin Nu...      0\n",
       "2  On Friday, it was revealed that former Milwauk...      0\n",
       "3  On Christmas day, Donald Trump announced that ...      0\n",
       "4  Pope Francis used his annual Christmas Day mes...      0"
      ]
     },
     "execution_count": 9,
     "metadata": {},
     "output_type": "execute_result"
    }
   ],
   "source": [
    "dataframe.head()"
   ]
  },
  {
   "cell_type": "code",
   "execution_count": 10,
   "id": "9b055d06",
   "metadata": {
    "execution": {
     "iopub.execute_input": "2022-08-24T18:45:46.095192Z",
     "iopub.status.busy": "2022-08-24T18:45:46.094890Z",
     "iopub.status.idle": "2022-08-24T18:45:46.135325Z",
     "shell.execute_reply": "2022-08-24T18:45:46.134280Z"
    },
    "papermill": {
     "duration": 0.05627,
     "end_time": "2022-08-24T18:45:46.137619",
     "exception": false,
     "start_time": "2022-08-24T18:45:46.081349",
     "status": "completed"
    },
    "tags": []
   },
   "outputs": [
    {
     "data": {
      "text/plain": [
       "9172"
      ]
     },
     "execution_count": 10,
     "metadata": {},
     "output_type": "execute_result"
    }
   ],
   "source": [
    "trump_adev = stiri_adevarate[stiri_adevarate['text'].str.contains('Donald Trump')]\n",
    "trump_adev.count()['text']"
   ]
  },
  {
   "cell_type": "code",
   "execution_count": 11,
   "id": "79087551",
   "metadata": {
    "execution": {
     "iopub.execute_input": "2022-08-24T18:45:46.165080Z",
     "iopub.status.busy": "2022-08-24T18:45:46.164794Z",
     "iopub.status.idle": "2022-08-24T18:45:46.204937Z",
     "shell.execute_reply": "2022-08-24T18:45:46.203898Z"
    },
    "papermill": {
     "duration": 0.056313,
     "end_time": "2022-08-24T18:45:46.206984",
     "exception": false,
     "start_time": "2022-08-24T18:45:46.150671",
     "status": "completed"
    },
    "tags": []
   },
   "outputs": [
    {
     "data": {
      "text/plain": [
       "8554"
      ]
     },
     "execution_count": 11,
     "metadata": {},
     "output_type": "execute_result"
    }
   ],
   "source": [
    "trump_fals = stiri_false[stiri_false['text'].str.contains('Donald Trump')]\n",
    "trump_fals.count()['text']"
   ]
  },
  {
   "cell_type": "code",
   "execution_count": 12,
   "id": "847898b7",
   "metadata": {
    "execution": {
     "iopub.execute_input": "2022-08-24T18:45:46.233774Z",
     "iopub.status.busy": "2022-08-24T18:45:46.233409Z",
     "iopub.status.idle": "2022-08-24T18:45:46.279908Z",
     "shell.execute_reply": "2022-08-24T18:45:46.278942Z"
    },
    "papermill": {
     "duration": 0.062414,
     "end_time": "2022-08-24T18:45:46.282111",
     "exception": false,
     "start_time": "2022-08-24T18:45:46.219697",
     "status": "completed"
    },
    "tags": []
   },
   "outputs": [
    {
     "data": {
      "text/plain": [
       "1515"
      ]
     },
     "execution_count": 12,
     "metadata": {},
     "output_type": "execute_result"
    }
   ],
   "source": [
    "nk_adev = stiri_adevarate[stiri_adevarate['text'].str.contains('North Korea')]\n",
    "nk_adev.count()['text']"
   ]
  },
  {
   "cell_type": "code",
   "execution_count": 13,
   "id": "ccec98e3",
   "metadata": {
    "execution": {
     "iopub.execute_input": "2022-08-24T18:45:46.310996Z",
     "iopub.status.busy": "2022-08-24T18:45:46.309461Z",
     "iopub.status.idle": "2022-08-24T18:45:46.349705Z",
     "shell.execute_reply": "2022-08-24T18:45:46.348570Z"
    },
    "papermill": {
     "duration": 0.056149,
     "end_time": "2022-08-24T18:45:46.351977",
     "exception": false,
     "start_time": "2022-08-24T18:45:46.295828",
     "status": "completed"
    },
    "tags": []
   },
   "outputs": [
    {
     "data": {
      "text/plain": [
       "324"
      ]
     },
     "execution_count": 13,
     "metadata": {},
     "output_type": "execute_result"
    }
   ],
   "source": [
    "nk_fals = stiri_false[stiri_false['text'].str.contains('North Korea')]\n",
    "nk_fals.count()['text']"
   ]
  },
  {
   "cell_type": "code",
   "execution_count": 14,
   "id": "17255066",
   "metadata": {
    "execution": {
     "iopub.execute_input": "2022-08-24T18:45:46.379531Z",
     "iopub.status.busy": "2022-08-24T18:45:46.379258Z",
     "iopub.status.idle": "2022-08-24T18:45:46.546892Z",
     "shell.execute_reply": "2022-08-24T18:45:46.545880Z"
    },
    "papermill": {
     "duration": 0.185018,
     "end_time": "2022-08-24T18:45:46.550520",
     "exception": false,
     "start_time": "2022-08-24T18:45:46.365502",
     "status": "completed"
    },
    "tags": []
   },
   "outputs": [
    {
     "data": {
      "text/plain": [
       "<AxesSubplot:xlabel='class', ylabel='count'>"
      ]
     },
     "execution_count": 14,
     "metadata": {},
     "output_type": "execute_result"
    },
    {
     "data": {
      "image/png": "[encoded data removed]",
      "text/plain": [
       "<Figure size 432x288 with 1 Axes>"
      ]
     },
     "metadata": {},
     "output_type": "display_data"
    }
   ],
   "source": [
    "seaborn.set_style(\"whitegrid\")\n",
    "seaborn.countplot(x=\"class\", data = dataframe)"
   ]
  },
  {
   "cell_type": "code",
   "execution_count": 15,
   "id": "9b0d93f0",
   "metadata": {
    "execution": {
     "iopub.execute_input": "2022-08-24T18:45:46.580860Z",
     "iopub.status.busy": "2022-08-24T18:45:46.580306Z",
     "iopub.status.idle": "2022-08-24T18:45:47.075158Z",
     "shell.execute_reply": "2022-08-24T18:45:47.074158Z"
    },
    "papermill": {
     "duration": 0.511538,
     "end_time": "2022-08-24T18:45:47.077590",
     "exception": false,
     "start_time": "2022-08-24T18:45:46.566052",
     "status": "completed"
    },
    "tags": []
   },
   "outputs": [],
   "source": [
    "from wordcloud import WordCloud\n",
    "from nltk.corpus import stopwords\n",
    "from nltk.tokenize import word_tokenize"
   ]
  },
  {
   "cell_type": "code",
   "execution_count": 16,
   "id": "33f1dcb8",
   "metadata": {
    "execution": {
     "iopub.execute_input": "2022-08-24T18:45:47.106482Z",
     "iopub.status.busy": "2022-08-24T18:45:47.105861Z",
     "iopub.status.idle": "2022-08-24T18:45:47.565553Z",
     "shell.execute_reply": "2022-08-24T18:45:47.564610Z"
    },
    "papermill": {
     "duration": 0.47705,
     "end_time": "2022-08-24T18:45:47.568421",
     "exception": false,
     "start_time": "2022-08-24T18:45:47.091371",
     "status": "completed"
    },
    "tags": []
   },
   "outputs": [
    {
     "data": {
      "image/png": "[encoded data removed]",
      "text/plain": [
       "<Figure size 432x288 with 1 Axes>"
      ]
     },
     "metadata": {},
     "output_type": "display_data"
    }
   ],
   "source": [
    "cloud_text = dataframe[\"text\"].values\n",
    "wordcloud = WordCloud().generate(str(cloud_text))\n",
    "plot.imshow(wordcloud)\n",
    "plot.axis(\"off\")\n",
    "plot.show()"
   ]
  },
  {
   "cell_type": "code",
   "execution_count": 17,
   "id": "a96b70f9",
   "metadata": {
    "execution": {
     "iopub.execute_input": "2022-08-24T18:45:47.599305Z",
     "iopub.status.busy": "2022-08-24T18:45:47.598993Z",
     "iopub.status.idle": "2022-08-24T18:45:48.132791Z",
     "shell.execute_reply": "2022-08-24T18:45:48.131950Z"
    },
    "papermill": {
     "duration": 0.55183,
     "end_time": "2022-08-24T18:45:48.135430",
     "exception": false,
     "start_time": "2022-08-24T18:45:47.583600",
     "status": "completed"
    },
    "tags": []
   },
   "outputs": [
    {
     "data": {
      "image/png": "[encoded data removed]",
      "text/plain": [
       "<Figure size 432x288 with 1 Axes>"
      ]
     },
     "metadata": {},
     "output_type": "display_data"
    }
   ],
   "source": [
    "cloud_text_fake = (stiri_false[\"text\"] + \" \" + stiri_false[\"title\"]).values\n",
    "wordcloud = WordCloud().generate(str(cloud_text_fake))\n",
    "plot.imshow(wordcloud)\n",
    "plot.axis(\"off\")\n",
    "plot.show()"
   ]
  },
  {
   "cell_type": "code",
   "execution_count": 18,
   "id": "a5f5c977",
   "metadata": {
    "execution": {
     "iopub.execute_input": "2022-08-24T18:45:48.169125Z",
     "iopub.status.busy": "2022-08-24T18:45:48.168156Z",
     "iopub.status.idle": "2022-08-24T18:45:48.657298Z",
     "shell.execute_reply": "2022-08-24T18:45:48.656286Z"
    },
    "papermill": {
     "duration": 0.509082,
     "end_time": "2022-08-24T18:45:48.660309",
     "exception": false,
     "start_time": "2022-08-24T18:45:48.151227",
     "status": "completed"
    },
    "tags": []
   },
   "outputs": [
    {
     "data": {
      "image/png": "[encoded data removed]",
      "text/plain": [
       "<Figure size 432x288 with 1 Axes>"
      ]
     },
     "metadata": {},
     "output_type": "display_data"
    }
   ],
   "source": [
    "cloud_text_true = (stiri_adevarate[\"text\"] + \" \" + stiri_adevarate[\"title\"]).values\n",
    "wordcloud = WordCloud().generate(str(cloud_text_true))\n",
    "plot.imshow(wordcloud, interpolation='bilinear')\n",
    "plot.axis(\"off\")\n",
    "plot.show()"
   ]
  },
  {
   "cell_type": "code",
   "execution_count": 19,
   "id": "fda74581",
   "metadata": {
    "execution": {
     "iopub.execute_input": "2022-08-24T18:45:48.696803Z",
     "iopub.status.busy": "2022-08-24T18:45:48.695777Z",
     "iopub.status.idle": "2022-08-24T18:45:48.749070Z",
     "shell.execute_reply": "2022-08-24T18:45:48.747992Z"
    },
    "papermill": {
     "duration": 0.073356,
     "end_time": "2022-08-24T18:45:48.751171",
     "exception": false,
     "start_time": "2022-08-24T18:45:48.677815",
     "status": "completed"
    },
    "tags": []
   },
   "outputs": [
    {
     "data": {
      "text/plain": [
       "43683"
      ]
     },
     "execution_count": 19,
     "metadata": {},
     "output_type": "execute_result"
    }
   ],
   "source": [
    "the = dataframe[dataframe['text'].str.contains('the')]\n",
    "the.count()['text']"
   ]
  },
  {
   "cell_type": "code",
   "execution_count": 20,
   "id": "49e0a266",
   "metadata": {
    "execution": {
     "iopub.execute_input": "2022-08-24T18:45:48.786697Z",
     "iopub.status.busy": "2022-08-24T18:45:48.786396Z",
     "iopub.status.idle": "2022-08-24T18:45:48.792202Z",
     "shell.execute_reply": "2022-08-24T18:45:48.791259Z"
    },
    "papermill": {
     "duration": 0.025999,
     "end_time": "2022-08-24T18:45:48.794344",
     "exception": false,
     "start_time": "2022-08-24T18:45:48.768345",
     "status": "completed"
    },
    "tags": []
   },
   "outputs": [
    {
     "data": {
      "text/plain": [
       "pandas.core.series.Series"
      ]
     },
     "execution_count": 20,
     "metadata": {},
     "output_type": "execute_result"
    }
   ],
   "source": [
    "type(dataframe['text'])"
   ]
  },
  {
   "cell_type": "code",
   "execution_count": 21,
   "id": "3e1243e2",
   "metadata": {
    "execution": {
     "iopub.execute_input": "2022-08-24T18:45:48.831118Z",
     "iopub.status.busy": "2022-08-24T18:45:48.829351Z",
     "iopub.status.idle": "2022-08-24T18:45:48.834775Z",
     "shell.execute_reply": "2022-08-24T18:45:48.833813Z"
    },
    "papermill": {
     "duration": 0.025776,
     "end_time": "2022-08-24T18:45:48.836720",
     "exception": false,
     "start_time": "2022-08-24T18:45:48.810944",
     "status": "completed"
    },
    "tags": []
   },
   "outputs": [],
   "source": [
    "from nltk import word_tokenize          \n",
    "from nltk.stem import WordNetLemmatizer "
   ]
  },
  {
   "cell_type": "code",
   "execution_count": 22,
   "id": "6eb7e790",
   "metadata": {
    "execution": {
     "iopub.execute_input": "2022-08-24T18:45:48.872223Z",
     "iopub.status.busy": "2022-08-24T18:45:48.871453Z",
     "iopub.status.idle": "2022-08-24T18:45:48.882775Z",
     "shell.execute_reply": "2022-08-24T18:45:48.881955Z"
    },
    "papermill": {
     "duration": 0.031724,
     "end_time": "2022-08-24T18:45:48.884957",
     "exception": false,
     "start_time": "2022-08-24T18:45:48.853233",
     "status": "completed"
    },
    "tags": []
   },
   "outputs": [],
   "source": [
    "from sklearn.feature_extraction.text import CountVectorizer\n",
    "from sklearn.feature_extraction import text \n",
    "from sklearn.feature_extraction.text import TfidfVectorizer\n",
    "from nltk.stem import WordNetLemmatizer\n",
    "stopW = stopwords.words('english')\n",
    "custom_stop_words = text.ENGLISH_STOP_WORDS.union(stopW)"
   ]
  },
  {
   "cell_type": "code",
   "execution_count": 23,
   "id": "48792db9",
   "metadata": {
    "execution": {
     "iopub.execute_input": "2022-08-24T18:45:48.921687Z",
     "iopub.status.busy": "2022-08-24T18:45:48.920207Z",
     "iopub.status.idle": "2022-08-24T18:45:48.925943Z",
     "shell.execute_reply": "2022-08-24T18:45:48.925169Z"
    },
    "papermill": {
     "duration": 0.026146,
     "end_time": "2022-08-24T18:45:48.927853",
     "exception": false,
     "start_time": "2022-08-24T18:45:48.901707",
     "status": "completed"
    },
    "tags": []
   },
   "outputs": [],
   "source": [
    "tfidvectorizer = TfidfVectorizer(max_df=0.8, stop_words = custom_stop_words, max_features=11000, ngram_range=(1,2))"
   ]
  },
  {
   "cell_type": "code",
   "execution_count": 24,
   "id": "4e0d9416",
   "metadata": {
    "execution": {
     "iopub.execute_input": "2022-08-24T18:45:48.963962Z",
     "iopub.status.busy": "2022-08-24T18:45:48.962337Z",
     "iopub.status.idle": "2022-08-24T18:45:48.967967Z",
     "shell.execute_reply": "2022-08-24T18:45:48.967102Z"
    },
    "papermill": {
     "duration": 0.025571,
     "end_time": "2022-08-24T18:45:48.970118",
     "exception": false,
     "start_time": "2022-08-24T18:45:48.944547",
     "status": "completed"
    },
    "tags": []
   },
   "outputs": [],
   "source": [
    "del stopW\n",
    "del custom_stop_words\n",
    "del stiri_false\n",
    "del stiri_adevarate"
   ]
  },
  {
   "cell_type": "code",
   "execution_count": 25,
   "id": "1a6e632b",
   "metadata": {
    "execution": {
     "iopub.execute_input": "2022-08-24T18:45:49.005582Z",
     "iopub.status.busy": "2022-08-24T18:45:49.005311Z",
     "iopub.status.idle": "2022-08-24T18:45:49.009692Z",
     "shell.execute_reply": "2022-08-24T18:45:49.008723Z"
    },
    "papermill": {
     "duration": 0.024621,
     "end_time": "2022-08-24T18:45:49.011662",
     "exception": false,
     "start_time": "2022-08-24T18:45:48.987041",
     "status": "completed"
    },
    "tags": []
   },
   "outputs": [],
   "source": [
    "caracteristici = dataframe['text'] # x caracteristica\n",
    "predictii = dataframe['class'] # y predictie"
   ]
  },
  {
   "cell_type": "code",
   "execution_count": 26,
   "id": "a503d317",
   "metadata": {
    "execution": {
     "iopub.execute_input": "2022-08-24T18:45:49.047418Z",
     "iopub.status.busy": "2022-08-24T18:45:49.046636Z",
     "iopub.status.idle": "2022-08-24T18:45:49.055925Z",
     "shell.execute_reply": "2022-08-24T18:45:49.054961Z"
    },
    "papermill": {
     "duration": 0.029076,
     "end_time": "2022-08-24T18:45:49.057868",
     "exception": false,
     "start_time": "2022-08-24T18:45:49.028792",
     "status": "completed"
    },
    "tags": []
   },
   "outputs": [
    {
     "data": {
      "text/html": [
       "<div>\n",
       "<style scoped>\n",
       "    .dataframe tbody tr th:only-of-type {\n",
       "        vertical-align: middle;\n",
       "    }\n",
       "\n",
       "    .dataframe tbody tr th {\n",
       "        vertical-align: top;\n",
       "    }\n",
       "\n",
       "    .dataframe thead th {\n",
       "        text-align: right;\n",
       "    }\n",
       "</style>\n",
       "<table border=\"1\" class=\"dataframe\">\n",
       "  <thead>\n",
       "    <tr style=\"text-align: right;\">\n",
       "      <th></th>\n",
       "      <th>text</th>\n",
       "      <th>class</th>\n",
       "    </tr>\n",
       "  </thead>\n",
       "  <tbody>\n",
       "    <tr>\n",
       "      <th>0</th>\n",
       "      <td>Donald Trump just couldn t wish all Americans ...</td>\n",
       "      <td>0</td>\n",
       "    </tr>\n",
       "    <tr>\n",
       "      <th>1</th>\n",
       "      <td>House Intelligence Committee Chairman Devin Nu...</td>\n",
       "      <td>0</td>\n",
       "    </tr>\n",
       "    <tr>\n",
       "      <th>2</th>\n",
       "      <td>On Friday, it was revealed that former Milwauk...</td>\n",
       "      <td>0</td>\n",
       "    </tr>\n",
       "    <tr>\n",
       "      <th>3</th>\n",
       "      <td>On Christmas day, Donald Trump announced that ...</td>\n",
       "      <td>0</td>\n",
       "    </tr>\n",
       "    <tr>\n",
       "      <th>4</th>\n",
       "      <td>Pope Francis used his annual Christmas Day mes...</td>\n",
       "      <td>0</td>\n",
       "    </tr>\n",
       "  </tbody>\n",
       "</table>\n",
       "</div>"
      ],
      "text/plain": [
       "                                                text  class\n",
       "0  Donald Trump just couldn t wish all Americans ...      0\n",
       "1  House Intelligence Committee Chairman Devin Nu...      0\n",
       "2  On Friday, it was revealed that former Milwauk...      0\n",
       "3  On Christmas day, Donald Trump announced that ...      0\n",
       "4  Pope Francis used his annual Christmas Day mes...      0"
      ]
     },
     "execution_count": 26,
     "metadata": {},
     "output_type": "execute_result"
    }
   ],
   "source": [
    "dataframe.head()"
   ]
  },
  {
   "cell_type": "code",
   "execution_count": 27,
   "id": "d4963283",
   "metadata": {
    "execution": {
     "iopub.execute_input": "2022-08-24T18:45:49.094204Z",
     "iopub.status.busy": "2022-08-24T18:45:49.093872Z",
     "iopub.status.idle": "2022-08-24T18:45:49.105663Z",
     "shell.execute_reply": "2022-08-24T18:45:49.104861Z"
    },
    "papermill": {
     "duration": 0.032422,
     "end_time": "2022-08-24T18:45:49.107714",
     "exception": false,
     "start_time": "2022-08-24T18:45:49.075292",
     "status": "completed"
    },
    "tags": []
   },
   "outputs": [],
   "source": [
    "from sklearn.model_selection import train_test_split\n",
    "X_train, X_test, y_train, y_test = train_test_split(caracteristici, predictii, test_size=0.20, random_state=1)"
   ]
  },
  {
   "cell_type": "code",
   "execution_count": 28,
   "id": "ca0c7ae0",
   "metadata": {
    "execution": {
     "iopub.execute_input": "2022-08-24T18:45:49.143377Z",
     "iopub.status.busy": "2022-08-24T18:45:49.142731Z",
     "iopub.status.idle": "2022-08-24T18:46:25.198055Z",
     "shell.execute_reply": "2022-08-24T18:46:25.196980Z"
    },
    "papermill": {
     "duration": 36.092507,
     "end_time": "2022-08-24T18:46:25.217227",
     "exception": false,
     "start_time": "2022-08-24T18:45:49.124720",
     "status": "completed"
    },
    "tags": []
   },
   "outputs": [
    {
     "data": {
      "text/plain": [
       "TfidfVectorizer(max_df=0.8, max_features=11000, ngram_range=(1, 2),\n",
       "                stop_words=frozenset({'a', 'about', 'above', 'across', 'after',\n",
       "                                      'afterwards', 'again', 'against', 'ain',\n",
       "                                      'all', 'almost', 'alone', 'along',\n",
       "                                      'already', 'also', 'although', 'always',\n",
       "                                      'am', 'among', 'amongst', 'amoungst',\n",
       "                                      'amount', 'an', 'and', 'another', 'any',\n",
       "                                      'anyhow', 'anyone', 'anything', 'anyway', ...}))"
      ]
     },
     "execution_count": 28,
     "metadata": {},
     "output_type": "execute_result"
    }
   ],
   "source": [
    "tfidvectorizer.fit(X_train)"
   ]
  },
  {
   "cell_type": "code",
   "execution_count": 29,
   "id": "a87e2102",
   "metadata": {
    "execution": {
     "iopub.execute_input": "2022-08-24T18:46:25.253241Z",
     "iopub.status.busy": "2022-08-24T18:46:25.252936Z",
     "iopub.status.idle": "2022-08-24T18:46:25.261671Z",
     "shell.execute_reply": "2022-08-24T18:46:25.260706Z"
    },
    "papermill": {
     "duration": 0.029584,
     "end_time": "2022-08-24T18:46:25.264136",
     "exception": false,
     "start_time": "2022-08-24T18:46:25.234552",
     "status": "completed"
    },
    "tags": []
   },
   "outputs": [
    {
     "data": {
      "text/plain": [
       "19625    Nothing says  Thanksgiving  or  family  like a...\n",
       "21965    What this story shows is that while there are ...\n",
       "12561    CAIRO (Reuters) - Russian President Vladimir P...\n",
       "4137     WASHINGTON (Reuters) - President Donald Trump ...\n",
       "1608     WASHINGTON (Reuters) - U.S. Senator John McCai...\n",
       "                               ...                        \n",
       "20242    GUATEMALA CITY (Reuters) - Guatemala s federal...\n",
       "9030     WASHINGTON (Reuters) - U.S. House of Represent...\n",
       "5192     While in Virginia, GOP presidential nominee Do...\n",
       "12172    Judge Jeanine Pirro has had it with the left a...\n",
       "9522     WASHINGTON (Reuters) - A congressional committ...\n",
       "Name: text, Length: 35918, dtype: object"
      ]
     },
     "execution_count": 29,
     "metadata": {},
     "output_type": "execute_result"
    }
   ],
   "source": [
    "X_train"
   ]
  },
  {
   "cell_type": "code",
   "execution_count": 30,
   "id": "7016c9d0",
   "metadata": {
    "execution": {
     "iopub.execute_input": "2022-08-24T18:46:25.300221Z",
     "iopub.status.busy": "2022-08-24T18:46:25.299941Z",
     "iopub.status.idle": "2022-08-24T18:46:50.922069Z",
     "shell.execute_reply": "2022-08-24T18:46:50.921034Z"
    },
    "papermill": {
     "duration": 25.643346,
     "end_time": "2022-08-24T18:46:50.924679",
     "exception": false,
     "start_time": "2022-08-24T18:46:25.281333",
     "status": "completed"
    },
    "tags": []
   },
   "outputs": [],
   "source": [
    "X_train = tfidvectorizer.transform(X_train).toarray()\n",
    "X_test = tfidvectorizer.transform(X_test).toarray()\n"
   ]
  },
  {
   "cell_type": "code",
   "execution_count": 31,
   "id": "a77f8d3a",
   "metadata": {
    "execution": {
     "iopub.execute_input": "2022-08-24T18:46:50.962732Z",
     "iopub.status.busy": "2022-08-24T18:46:50.962182Z",
     "iopub.status.idle": "2022-08-24T18:46:50.967976Z",
     "shell.execute_reply": "2022-08-24T18:46:50.967089Z"
    },
    "papermill": {
     "duration": 0.027278,
     "end_time": "2022-08-24T18:46:50.970285",
     "exception": false,
     "start_time": "2022-08-24T18:46:50.943007",
     "status": "completed"
    },
    "tags": []
   },
   "outputs": [
    {
     "data": {
      "text/plain": [
       "(8980, 11000)"
      ]
     },
     "execution_count": 31,
     "metadata": {},
     "output_type": "execute_result"
    }
   ],
   "source": [
    "X_test.shape"
   ]
  },
  {
   "cell_type": "code",
   "execution_count": 32,
   "id": "82db925a",
   "metadata": {
    "execution": {
     "iopub.execute_input": "2022-08-24T18:46:51.007267Z",
     "iopub.status.busy": "2022-08-24T18:46:51.005636Z",
     "iopub.status.idle": "2022-08-24T18:46:51.013828Z",
     "shell.execute_reply": "2022-08-24T18:46:51.012978Z"
    },
    "papermill": {
     "duration": 0.02845,
     "end_time": "2022-08-24T18:46:51.015842",
     "exception": false,
     "start_time": "2022-08-24T18:46:50.987392",
     "status": "completed"
    },
    "tags": []
   },
   "outputs": [
    {
     "data": {
      "text/plain": [
       "numpy.ndarray"
      ]
     },
     "execution_count": 32,
     "metadata": {},
     "output_type": "execute_result"
    }
   ],
   "source": [
    "type(X_train)"
   ]
  },
  {
   "cell_type": "code",
   "execution_count": 33,
   "id": "3efd3ad9",
   "metadata": {
    "execution": {
     "iopub.execute_input": "2022-08-24T18:46:51.052958Z",
     "iopub.status.busy": "2022-08-24T18:46:51.052112Z",
     "iopub.status.idle": "2022-08-24T18:46:51.058599Z",
     "shell.execute_reply": "2022-08-24T18:46:51.057609Z"
    },
    "papermill": {
     "duration": 0.027257,
     "end_time": "2022-08-24T18:46:51.060742",
     "exception": false,
     "start_time": "2022-08-24T18:46:51.033485",
     "status": "completed"
    },
    "tags": []
   },
   "outputs": [
    {
     "data": {
      "text/plain": [
       "(35918, 11000)"
      ]
     },
     "execution_count": 33,
     "metadata": {},
     "output_type": "execute_result"
    }
   ],
   "source": [
    "rows_X_train, cols_X_train = X_train.shape\n",
    "X_train.shape\n"
   ]
  },
  {
   "cell_type": "code",
   "execution_count": 34,
   "id": "6fc26836",
   "metadata": {
    "execution": {
     "iopub.execute_input": "2022-08-24T18:46:51.097132Z",
     "iopub.status.busy": "2022-08-24T18:46:51.096371Z",
     "iopub.status.idle": "2022-08-24T18:46:59.658825Z",
     "shell.execute_reply": "2022-08-24T18:46:59.657833Z"
    },
    "papermill": {
     "duration": 8.585897,
     "end_time": "2022-08-24T18:46:59.663962",
     "exception": false,
     "start_time": "2022-08-24T18:46:51.078065",
     "status": "completed"
    },
    "tags": []
   },
   "outputs": [
    {
     "name": "stderr",
     "output_type": "stream",
     "text": [
      "2022-08-24 18:46:56.812831: I tensorflow/stream_executor/cuda/cuda_gpu_executor.cc:937] successful NUMA node read from SysFS had negative value (-1), but there must be at least one NUMA node, so returning NUMA node zero\n",
      "2022-08-24 18:46:56.930097: I tensorflow/stream_executor/cuda/cuda_gpu_executor.cc:937] successful NUMA node read from SysFS had negative value (-1), but there must be at least one NUMA node, so returning NUMA node zero\n",
      "2022-08-24 18:46:56.930970: I tensorflow/stream_executor/cuda/cuda_gpu_executor.cc:937] successful NUMA node read from SysFS had negative value (-1), but there must be at least one NUMA node, so returning NUMA node zero\n",
      "2022-08-24 18:46:56.932538: I tensorflow/core/platform/cpu_feature_guard.cc:142] This TensorFlow binary is optimized with oneAPI Deep Neural Network Library (oneDNN) to use the following CPU instructions in performance-critical operations:  AVX2 AVX512F FMA\n",
      "To enable them in other operations, rebuild TensorFlow with the appropriate compiler flags.\n",
      "2022-08-24 18:46:56.932883: I tensorflow/stream_executor/cuda/cuda_gpu_executor.cc:937] successful NUMA node read from SysFS had negative value (-1), but there must be at least one NUMA node, so returning NUMA node zero\n",
      "2022-08-24 18:46:56.934007: I tensorflow/stream_executor/cuda/cuda_gpu_executor.cc:937] successful NUMA node read from SysFS had negative value (-1), but there must be at least one NUMA node, so returning NUMA node zero\n",
      "2022-08-24 18:46:56.935138: I tensorflow/stream_executor/cuda/cuda_gpu_executor.cc:937] successful NUMA node read from SysFS had negative value (-1), but there must be at least one NUMA node, so returning NUMA node zero\n",
      "2022-08-24 18:46:59.152455: I tensorflow/stream_executor/cuda/cuda_gpu_executor.cc:937] successful NUMA node read from SysFS had negative value (-1), but there must be at least one NUMA node, so returning NUMA node zero\n",
      "2022-08-24 18:46:59.153352: I tensorflow/stream_executor/cuda/cuda_gpu_executor.cc:937] successful NUMA node read from SysFS had negative value (-1), but there must be at least one NUMA node, so returning NUMA node zero\n",
      "2022-08-24 18:46:59.154012: I tensorflow/stream_executor/cuda/cuda_gpu_executor.cc:937] successful NUMA node read from SysFS had negative value (-1), but there must be at least one NUMA node, so returning NUMA node zero\n",
      "2022-08-24 18:46:59.154633: I tensorflow/core/common_runtime/gpu/gpu_device.cc:1510] Created device /job:localhost/replica:0/task:0/device:GPU:0 with 15403 MB memory:  -> device: 0, name: Tesla P100-PCIE-16GB, pci bus id: 0000:00:04.0, compute capability: 6.0\n"
     ]
    }
   ],
   "source": [
    "from keras.models import Sequential\n",
    "from keras.layers import Dense\n",
    "from keras.layers import Dropout\n",
    "from keras.layers import Flatten\n",
    "from tensorflow.keras.optimizers import Adam\n",
    "from keras.utils import np_utils\n",
    "model = Sequential()\n",
    "model.add(Dense(units = 200 , activation = 'relu' , input_shape = (rows_X_train, cols_X_train)))\n",
    "model.add(Dense(units = 150 , activation = 'relu'))\n",
    "model.add(Dropout(0.3))\n",
    "model.add(Dense(units = 100 , activation = 'relu'))\n",
    "model.add(Dropout(0.3))\n",
    "model.add(Dense(units = 30 , activation = 'relu'))\n",
    "model.add(Dense(units = 1 , activation = 'sigmoid'))"
   ]
  },
  {
   "cell_type": "code",
   "execution_count": 35,
   "id": "049587bb",
   "metadata": {
    "execution": {
     "iopub.execute_input": "2022-08-24T18:46:59.756181Z",
     "iopub.status.busy": "2022-08-24T18:46:59.755690Z",
     "iopub.status.idle": "2022-08-24T18:46:59.777205Z",
     "shell.execute_reply": "2022-08-24T18:46:59.775609Z"
    },
    "papermill": {
     "duration": 0.065213,
     "end_time": "2022-08-24T18:46:59.779648",
     "exception": false,
     "start_time": "2022-08-24T18:46:59.714435",
     "status": "completed"
    },
    "tags": []
   },
   "outputs": [],
   "source": [
    "\n",
    "model.compile(optimizer = 'adam' , loss = 'binary_crossentropy' , metrics = ['accuracy'])"
   ]
  },
  {
   "cell_type": "code",
   "execution_count": 36,
   "id": "e6e71a06",
   "metadata": {
    "execution": {
     "iopub.execute_input": "2022-08-24T18:46:59.854809Z",
     "iopub.status.busy": "2022-08-24T18:46:59.854360Z",
     "iopub.status.idle": "2022-08-24T18:47:44.776347Z",
     "shell.execute_reply": "2022-08-24T18:47:44.774898Z"
    },
    "papermill": {
     "duration": 44.95934,
     "end_time": "2022-08-24T18:47:44.778841",
     "exception": false,
     "start_time": "2022-08-24T18:46:59.819501",
     "status": "completed"
    },
    "tags": []
   },
   "outputs": [
    {
     "name": "stderr",
     "output_type": "stream",
     "text": [
      "2022-08-24 18:47:00.511176: W tensorflow/core/framework/cpu_allocator_impl.cc:80] Allocation of 1422344000 exceeds 10% of free system memory.\n",
      "2022-08-24 18:47:02.111732: W tensorflow/core/framework/cpu_allocator_impl.cc:80] Allocation of 1422344000 exceeds 10% of free system memory.\n",
      "2022-08-24 18:47:03.272801: I tensorflow/compiler/mlir/mlir_graph_optimization_pass.cc:185] None of the MLIR Optimization Passes are enabled (registered 2)\n"
     ]
    },
    {
     "name": "stdout",
     "output_type": "stream",
     "text": [
      "Epoch 1/10\n",
      "1011/1011 [==============================] - 5s 4ms/step - loss: 0.0650 - accuracy: 0.9760 - val_loss: 0.0250 - val_accuracy: 0.9914\n",
      "Epoch 2/10\n",
      "1011/1011 [==============================] - 4s 4ms/step - loss: 0.0062 - accuracy: 0.9983 - val_loss: 0.0284 - val_accuracy: 0.9928\n",
      "Epoch 3/10\n",
      "1011/1011 [==============================] - 3s 3ms/step - loss: 0.0040 - accuracy: 0.9985 - val_loss: 0.0306 - val_accuracy: 0.9914\n",
      "Epoch 4/10\n",
      "1011/1011 [==============================] - 3s 3ms/step - loss: 0.0036 - accuracy: 0.9986 - val_loss: 0.0415 - val_accuracy: 0.9908\n",
      "Epoch 5/10\n",
      "1011/1011 [==============================] - 4s 4ms/step - loss: 0.0030 - accuracy: 0.9994 - val_loss: 0.0514 - val_accuracy: 0.9919\n",
      "Epoch 6/10\n",
      "1011/1011 [==============================] - 3s 3ms/step - loss: 6.4241e-04 - accuracy: 0.9998 - val_loss: 0.0545 - val_accuracy: 0.9919\n",
      "Epoch 7/10\n",
      "1011/1011 [==============================] - 3s 3ms/step - loss: 0.0017 - accuracy: 0.9995 - val_loss: 0.0577 - val_accuracy: 0.9908\n",
      "Epoch 8/10\n",
      "1011/1011 [==============================] - 4s 4ms/step - loss: 0.0010 - accuracy: 0.9998 - val_loss: 0.0537 - val_accuracy: 0.9905\n",
      "Epoch 9/10\n",
      "1011/1011 [==============================] - 3s 3ms/step - loss: 0.0013 - accuracy: 0.9996 - val_loss: 0.0486 - val_accuracy: 0.9919\n",
      "Epoch 10/10\n",
      "1011/1011 [==============================] - 3s 3ms/step - loss: 4.2324e-04 - accuracy: 0.9999 - val_loss: 0.0812 - val_accuracy: 0.9908\n"
     ]
    }
   ],
   "source": [
    "istoric = model.fit(x=X_train, y=y_train, epochs=10, verbose = True, validation_split=0.1)"
   ]
  },
  {
   "cell_type": "code",
   "execution_count": 37,
   "id": "6ad960a5",
   "metadata": {
    "execution": {
     "iopub.execute_input": "2022-08-24T18:47:44.897956Z",
     "iopub.status.busy": "2022-08-24T18:47:44.897544Z",
     "iopub.status.idle": "2022-08-24T18:47:44.905525Z",
     "shell.execute_reply": "2022-08-24T18:47:44.904163Z"
    },
    "papermill": {
     "duration": 0.068523,
     "end_time": "2022-08-24T18:47:44.908059",
     "exception": false,
     "start_time": "2022-08-24T18:47:44.839536",
     "status": "completed"
    },
    "tags": []
   },
   "outputs": [
    {
     "name": "stdout",
     "output_type": "stream",
     "text": [
      "Model: \"sequential\"\n",
      "_________________________________________________________________\n",
      "Layer (type)                 Output Shape              Param #   \n",
      "=================================================================\n",
      "dense (Dense)                (None, 35918, 200)        2200200   \n",
      "_________________________________________________________________\n",
      "dense_1 (Dense)              (None, 35918, 150)        30150     \n",
      "_________________________________________________________________\n",
      "dropout (Dropout)            (None, 35918, 150)        0         \n",
      "_________________________________________________________________\n",
      "dense_2 (Dense)              (None, 35918, 100)        15100     \n",
      "_________________________________________________________________\n",
      "dropout_1 (Dropout)          (None, 35918, 100)        0         \n",
      "_________________________________________________________________\n",
      "dense_3 (Dense)              (None, 35918, 30)         3030      \n",
      "_________________________________________________________________\n",
      "dense_4 (Dense)              (None, 35918, 1)          31        \n",
      "=================================================================\n",
      "Total params: 2,248,511\n",
      "Trainable params: 2,248,511\n",
      "Non-trainable params: 0\n",
      "_________________________________________________________________\n"
     ]
    }
   ],
   "source": [
    "model.summary()"
   ]
  },
  {
   "cell_type": "code",
   "execution_count": 38,
   "id": "c8292d38",
   "metadata": {
    "execution": {
     "iopub.execute_input": "2022-08-24T18:47:45.022952Z",
     "iopub.status.busy": "2022-08-24T18:47:45.022164Z",
     "iopub.status.idle": "2022-08-24T18:47:46.485252Z",
     "shell.execute_reply": "2022-08-24T18:47:46.483925Z"
    },
    "papermill": {
     "duration": 1.524408,
     "end_time": "2022-08-24T18:47:46.488357",
     "exception": false,
     "start_time": "2022-08-24T18:47:44.963949",
     "status": "completed"
    },
    "tags": []
   },
   "outputs": [],
   "source": [
    "predictii_model = (model.predict(X_test) > 0.5).astype(\"int32\")"
   ]
  },
  {
   "cell_type": "code",
   "execution_count": 39,
   "id": "849cd25e",
   "metadata": {
    "execution": {
     "iopub.execute_input": "2022-08-24T18:47:46.604405Z",
     "iopub.status.busy": "2022-08-24T18:47:46.603765Z",
     "iopub.status.idle": "2022-08-24T18:47:46.611493Z",
     "shell.execute_reply": "2022-08-24T18:47:46.610310Z"
    },
    "papermill": {
     "duration": 0.069043,
     "end_time": "2022-08-24T18:47:46.615159",
     "exception": false,
     "start_time": "2022-08-24T18:47:46.546116",
     "status": "completed"
    },
    "tags": []
   },
   "outputs": [
    {
     "data": {
      "text/plain": [
       "array([[0],\n",
       "       [1],\n",
       "       [0]], dtype=int32)"
      ]
     },
     "execution_count": 39,
     "metadata": {},
     "output_type": "execute_result"
    }
   ],
   "source": [
    "predictii_model[:3]"
   ]
  },
  {
   "cell_type": "code",
   "execution_count": 40,
   "id": "45a7dc90",
   "metadata": {
    "execution": {
     "iopub.execute_input": "2022-08-24T18:47:46.728934Z",
     "iopub.status.busy": "2022-08-24T18:47:46.728403Z",
     "iopub.status.idle": "2022-08-24T18:47:46.739065Z",
     "shell.execute_reply": "2022-08-24T18:47:46.738051Z"
    },
    "papermill": {
     "duration": 0.069905,
     "end_time": "2022-08-24T18:47:46.741236",
     "exception": false,
     "start_time": "2022-08-24T18:47:46.671331",
     "status": "completed"
    },
    "tags": []
   },
   "outputs": [
    {
     "name": "stdout",
     "output_type": "stream",
     "text": [
      "acuratete model neuronal:  0.9927532033118331\n"
     ]
    }
   ],
   "source": [
    "print('acuratete model neuronal: ', roc_auc_score(y_test, predictii_model))"
   ]
  },
  {
   "cell_type": "code",
   "execution_count": 41,
   "id": "a27e82c7",
   "metadata": {
    "execution": {
     "iopub.execute_input": "2022-08-24T18:47:46.859836Z",
     "iopub.status.busy": "2022-08-24T18:47:46.859101Z",
     "iopub.status.idle": "2022-08-24T18:47:46.870067Z",
     "shell.execute_reply": "2022-08-24T18:47:46.868885Z"
    },
    "papermill": {
     "duration": 0.071625,
     "end_time": "2022-08-24T18:47:46.872443",
     "exception": false,
     "start_time": "2022-08-24T18:47:46.800818",
     "status": "completed"
    },
    "tags": []
   },
   "outputs": [
    {
     "data": {
      "text/plain": [
       "array([[4649,   33],\n",
       "       [  32, 4266]])"
      ]
     },
     "execution_count": 41,
     "metadata": {},
     "output_type": "execute_result"
    }
   ],
   "source": [
    "\n",
    "from sklearn.metrics import confusion_matrix\n",
    "cm = confusion_matrix(y_test,predictii_model)\n",
    "cm\n",
    "\n"
   ]
  },
  {
   "cell_type": "code",
   "execution_count": 42,
   "id": "6fc7dac4",
   "metadata": {
    "execution": {
     "iopub.execute_input": "2022-08-24T18:47:46.983586Z",
     "iopub.status.busy": "2022-08-24T18:47:46.982744Z",
     "iopub.status.idle": "2022-08-24T18:47:46.990476Z",
     "shell.execute_reply": "2022-08-24T18:47:46.989503Z"
    },
    "papermill": {
     "duration": 0.06393,
     "end_time": "2022-08-24T18:47:46.992755",
     "exception": false,
     "start_time": "2022-08-24T18:47:46.928825",
     "status": "completed"
    },
    "tags": []
   },
   "outputs": [],
   "source": [
    "from sklearn.naive_bayes import MultinomialNB"
   ]
  },
  {
   "cell_type": "code",
   "execution_count": 43,
   "id": "2002943f",
   "metadata": {
    "execution": {
     "iopub.execute_input": "2022-08-24T18:47:47.109807Z",
     "iopub.status.busy": "2022-08-24T18:47:47.109266Z",
     "iopub.status.idle": "2022-08-24T18:47:47.114691Z",
     "shell.execute_reply": "2022-08-24T18:47:47.113455Z"
    },
    "papermill": {
     "duration": 0.066568,
     "end_time": "2022-08-24T18:47:47.117152",
     "exception": false,
     "start_time": "2022-08-24T18:47:47.050584",
     "status": "completed"
    },
    "tags": []
   },
   "outputs": [],
   "source": [
    "mnb = MultinomialNB(alpha=0.1) "
   ]
  },
  {
   "cell_type": "code",
   "execution_count": 44,
   "id": "68314208",
   "metadata": {
    "execution": {
     "iopub.execute_input": "2022-08-24T18:47:47.230941Z",
     "iopub.status.busy": "2022-08-24T18:47:47.230590Z",
     "iopub.status.idle": "2022-08-24T18:47:48.333987Z",
     "shell.execute_reply": "2022-08-24T18:47:48.332741Z"
    },
    "papermill": {
     "duration": 1.163421,
     "end_time": "2022-08-24T18:47:48.337855",
     "exception": false,
     "start_time": "2022-08-24T18:47:47.174434",
     "status": "completed"
    },
    "tags": []
   },
   "outputs": [
    {
     "data": {
      "text/plain": [
       "MultinomialNB(alpha=0.1)"
      ]
     },
     "execution_count": 44,
     "metadata": {},
     "output_type": "execute_result"
    }
   ],
   "source": [
    "mnb.fit(X_train, y_train)"
   ]
  },
  {
   "cell_type": "code",
   "execution_count": 45,
   "id": "97d51bfb",
   "metadata": {
    "execution": {
     "iopub.execute_input": "2022-08-24T18:47:48.517183Z",
     "iopub.status.busy": "2022-08-24T18:47:48.516811Z",
     "iopub.status.idle": "2022-08-24T18:47:48.737010Z",
     "shell.execute_reply": "2022-08-24T18:47:48.735600Z"
    },
    "papermill": {
     "duration": 0.277375,
     "end_time": "2022-08-24T18:47:48.741806",
     "exception": false,
     "start_time": "2022-08-24T18:47:48.464431",
     "status": "completed"
    },
    "tags": []
   },
   "outputs": [],
   "source": [
    "y_prezis = mnb.predict(X_test)"
   ]
  },
  {
   "cell_type": "code",
   "execution_count": 46,
   "id": "f1baba33",
   "metadata": {
    "execution": {
     "iopub.execute_input": "2022-08-24T18:47:48.925724Z",
     "iopub.status.busy": "2022-08-24T18:47:48.925354Z",
     "iopub.status.idle": "2022-08-24T18:47:48.932010Z",
     "shell.execute_reply": "2022-08-24T18:47:48.931091Z"
    },
    "papermill": {
     "duration": 0.062494,
     "end_time": "2022-08-24T18:47:48.934751",
     "exception": false,
     "start_time": "2022-08-24T18:47:48.872257",
     "status": "completed"
    },
    "tags": []
   },
   "outputs": [
    {
     "data": {
      "text/plain": [
       "array([0, 1, 0])"
      ]
     },
     "execution_count": 46,
     "metadata": {},
     "output_type": "execute_result"
    }
   ],
   "source": [
    "y_prezis[:3]"
   ]
  },
  {
   "cell_type": "code",
   "execution_count": 47,
   "id": "97d8c730",
   "metadata": {
    "execution": {
     "iopub.execute_input": "2022-08-24T18:47:49.039431Z",
     "iopub.status.busy": "2022-08-24T18:47:49.038573Z",
     "iopub.status.idle": "2022-08-24T18:47:49.047786Z",
     "shell.execute_reply": "2022-08-24T18:47:49.046736Z"
    },
    "papermill": {
     "duration": 0.065003,
     "end_time": "2022-08-24T18:47:49.050718",
     "exception": false,
     "start_time": "2022-08-24T18:47:48.985715",
     "status": "completed"
    },
    "tags": []
   },
   "outputs": [
    {
     "name": "stdout",
     "output_type": "stream",
     "text": [
      "acuratete model MNB:  0.9555103861029112\n"
     ]
    }
   ],
   "source": [
    "print('acuratete model MNB: ', roc_auc_score(y_test, y_prezis))"
   ]
  },
  {
   "cell_type": "code",
   "execution_count": 48,
   "id": "ae1af3e2",
   "metadata": {
    "execution": {
     "iopub.execute_input": "2022-08-24T18:47:49.153865Z",
     "iopub.status.busy": "2022-08-24T18:47:49.153582Z",
     "iopub.status.idle": "2022-08-24T18:47:49.158012Z",
     "shell.execute_reply": "2022-08-24T18:47:49.157068Z"
    },
    "papermill": {
     "duration": 0.05853,
     "end_time": "2022-08-24T18:47:49.160043",
     "exception": false,
     "start_time": "2022-08-24T18:47:49.101513",
     "status": "completed"
    },
    "tags": []
   },
   "outputs": [],
   "source": [
    "from sklearn.metrics import classification_report"
   ]
  },
  {
   "cell_type": "code",
   "execution_count": 49,
   "id": "efbbe65a",
   "metadata": {
    "execution": {
     "iopub.execute_input": "2022-08-24T18:47:49.263806Z",
     "iopub.status.busy": "2022-08-24T18:47:49.262981Z",
     "iopub.status.idle": "2022-08-24T18:47:49.271663Z",
     "shell.execute_reply": "2022-08-24T18:47:49.270793Z"
    },
    "papermill": {
     "duration": 0.063356,
     "end_time": "2022-08-24T18:47:49.273694",
     "exception": false,
     "start_time": "2022-08-24T18:47:49.210338",
     "status": "completed"
    },
    "tags": []
   },
   "outputs": [
    {
     "name": "stdout",
     "output_type": "stream",
     "text": [
      "[[4480  202]\n",
      " [ 197 4101]]\n"
     ]
    }
   ],
   "source": [
    "print(confusion_matrix(y_test, y_prezis, labels=[0, 1]))"
   ]
  },
  {
   "cell_type": "code",
   "execution_count": 50,
   "id": "aa1097fc",
   "metadata": {
    "execution": {
     "iopub.execute_input": "2022-08-24T18:47:49.378538Z",
     "iopub.status.busy": "2022-08-24T18:47:49.377872Z",
     "iopub.status.idle": "2022-08-24T18:47:49.384841Z",
     "shell.execute_reply": "2022-08-24T18:47:49.383890Z"
    },
    "papermill": {
     "duration": 0.061982,
     "end_time": "2022-08-24T18:47:49.387197",
     "exception": false,
     "start_time": "2022-08-24T18:47:49.325215",
     "status": "completed"
    },
    "tags": []
   },
   "outputs": [],
   "source": [
    "cm = confusion_matrix(y_test, y_prezis , labels=[0, 1])"
   ]
  },
  {
   "cell_type": "code",
   "execution_count": 51,
   "id": "55b711cd",
   "metadata": {
    "execution": {
     "iopub.execute_input": "2022-08-24T18:47:49.492043Z",
     "iopub.status.busy": "2022-08-24T18:47:49.490541Z",
     "iopub.status.idle": "2022-08-24T18:47:49.721489Z",
     "shell.execute_reply": "2022-08-24T18:47:49.720565Z"
    },
    "papermill": {
     "duration": 0.284904,
     "end_time": "2022-08-24T18:47:49.723524",
     "exception": false,
     "start_time": "2022-08-24T18:47:49.438620",
     "status": "completed"
    },
    "tags": []
   },
   "outputs": [
    {
     "data": {
      "text/plain": [
       "<AxesSubplot:>"
      ]
     },
     "execution_count": 51,
     "metadata": {},
     "output_type": "execute_result"
    },
    {
     "data": {
      "image/png": "[encoded data removed]",
      "text/plain": [
       "<Figure size 432x288 with 2 Axes>"
      ]
     },
     "metadata": {},
     "output_type": "display_data"
    }
   ],
   "source": [
    "ax= plot.subplot()\n",
    "seaborn.heatmap(cm, annot=True, ax= ax)"
   ]
  },
  {
   "cell_type": "code",
   "execution_count": 52,
   "id": "cb9bd0e6",
   "metadata": {
    "execution": {
     "iopub.execute_input": "2022-08-24T18:47:49.830190Z",
     "iopub.status.busy": "2022-08-24T18:47:49.829813Z",
     "iopub.status.idle": "2022-08-24T18:48:21.043870Z",
     "shell.execute_reply": "2022-08-24T18:48:21.042640Z"
    },
    "papermill": {
     "duration": 31.27019,
     "end_time": "2022-08-24T18:48:21.046434",
     "exception": false,
     "start_time": "2022-08-24T18:47:49.776244",
     "status": "completed"
    },
    "tags": []
   },
   "outputs": [
    {
     "name": "stdout",
     "output_type": "stream",
     "text": [
      "Collecting tensorflow-text==2.6.0\r\n",
      "  Downloading tensorflow_text-2.6.0-cp37-cp37m-manylinux1_x86_64.whl (4.4 MB)\r\n",
      "\u001b[2K     \u001b[90m━━━━━━━━━━━━━━━━━━━━━━━━━━━━━━━━━━━━━━━━\u001b[0m \u001b[32m4.4/4.4 MB\u001b[0m \u001b[31m9.5 MB/s\u001b[0m eta \u001b[36m0:00:00\u001b[0m\r\n",
      "\u001b[?25hRequirement already satisfied: tensorflow<2.7,>=2.6.0 in /opt/conda/lib/python3.7/site-packages (from tensorflow-text==2.6.0) (2.6.4)\r\n",
      "Requirement already satisfied: tensorflow-hub>=0.8.0 in /opt/conda/lib/python3.7/site-packages (from tensorflow-text==2.6.0) (0.12.0)\r\n",
      "Requirement already satisfied: keras<2.7,>=2.6.0 in /opt/conda/lib/python3.7/site-packages (from tensorflow<2.7,>=2.6.0->tensorflow-text==2.6.0) (2.6.0)\r\n",
      "Requirement already satisfied: opt-einsum~=3.3.0 in /opt/conda/lib/python3.7/site-packages (from tensorflow<2.7,>=2.6.0->tensorflow-text==2.6.0) (3.3.0)\r\n",
      "Collecting numpy~=1.19.2\r\n",
      "  Downloading numpy-1.19.5-cp37-cp37m-manylinux2010_x86_64.whl (14.8 MB)\r\n",
      "\u001b[2K     \u001b[90m━━━━━━━━━━━━━━━━━━━━━━━━━━━━━━━━━━━━━━━━\u001b[0m \u001b[32m14.8/14.8 MB\u001b[0m \u001b[31m30.1 MB/s\u001b[0m eta \u001b[36m0:00:00\u001b[0m\r\n",
      "\u001b[?25hRequirement already satisfied: termcolor~=1.1.0 in /opt/conda/lib/python3.7/site-packages (from tensorflow<2.7,>=2.6.0->tensorflow-text==2.6.0) (1.1.0)\r\n",
      "Requirement already satisfied: keras-preprocessing~=1.1.2 in /opt/conda/lib/python3.7/site-packages (from tensorflow<2.7,>=2.6.0->tensorflow-text==2.6.0) (1.1.2)\r\n",
      "Collecting six~=1.15.0\r\n",
      "  Downloading six-1.15.0-py2.py3-none-any.whl (10 kB)\r\n",
      "Collecting wrapt~=1.12.1\r\n",
      "  Downloading wrapt-1.12.1.tar.gz (27 kB)\r\n",
      "  Preparing metadata (setup.py) ... \u001b[?25l-\b \bdone\r\n",
      "\u001b[?25hRequirement already satisfied: flatbuffers~=1.12.0 in /opt/conda/lib/python3.7/site-packages (from tensorflow<2.7,>=2.6.0->tensorflow-text==2.6.0) (1.12)\r\n",
      "Requirement already satisfied: gast==0.4.0 in /opt/conda/lib/python3.7/site-packages (from tensorflow<2.7,>=2.6.0->tensorflow-text==2.6.0) (0.4.0)\r\n",
      "Collecting typing-extensions<3.11,>=3.7\r\n",
      "  Downloading typing_extensions-3.10.0.2-py3-none-any.whl (26 kB)\r\n",
      "Requirement already satisfied: clang~=5.0 in /opt/conda/lib/python3.7/site-packages (from tensorflow<2.7,>=2.6.0->tensorflow-text==2.6.0) (5.0)\r\n",
      "Requirement already satisfied: tensorflow-estimator<2.7,>=2.6.0 in /opt/conda/lib/python3.7/site-packages (from tensorflow<2.7,>=2.6.0->tensorflow-text==2.6.0) (2.6.0)\r\n",
      "Collecting absl-py~=0.10\r\n",
      "  Downloading absl_py-0.15.0-py3-none-any.whl (132 kB)\r\n",
      "\u001b[2K     \u001b[90m━━━━━━━━━━━━━━━━━━━━━━━━━━━━━━━━━━━━━━\u001b[0m \u001b[32m132.0/132.0 kB\u001b[0m \u001b[31m12.1 MB/s\u001b[0m eta \u001b[36m0:00:00\u001b[0m\r\n",
      "\u001b[?25hRequirement already satisfied: grpcio<2.0,>=1.37.0 in /opt/conda/lib/python3.7/site-packages (from tensorflow<2.7,>=2.6.0->tensorflow-text==2.6.0) (1.43.0)\r\n",
      "Requirement already satisfied: astunparse~=1.6.3 in /opt/conda/lib/python3.7/site-packages (from tensorflow<2.7,>=2.6.0->tensorflow-text==2.6.0) (1.6.3)\r\n",
      "Requirement already satisfied: protobuf>=3.9.2 in /opt/conda/lib/python3.7/site-packages (from tensorflow<2.7,>=2.6.0->tensorflow-text==2.6.0) (3.19.4)\r\n",
      "Requirement already satisfied: tensorboard<2.7,>=2.6.0 in /opt/conda/lib/python3.7/site-packages (from tensorflow<2.7,>=2.6.0->tensorflow-text==2.6.0) (2.6.0)\r\n",
      "Requirement already satisfied: google-pasta~=0.2 in /opt/conda/lib/python3.7/site-packages (from tensorflow<2.7,>=2.6.0->tensorflow-text==2.6.0) (0.2.0)\r\n",
      "Collecting h5py~=3.1.0\r\n",
      "  Downloading h5py-3.1.0-cp37-cp37m-manylinux1_x86_64.whl (4.0 MB)\r\n",
      "\u001b[2K     \u001b[90m━━━━━━━━━━━━━━━━━━━━━━━━━━━━━━━━━━━━━━━━\u001b[0m \u001b[32m4.0/4.0 MB\u001b[0m \u001b[31m39.0 MB/s\u001b[0m eta \u001b[36m0:00:00\u001b[0m\r\n",
      "\u001b[?25hRequirement already satisfied: wheel~=0.35 in /opt/conda/lib/python3.7/site-packages (from tensorflow<2.7,>=2.6.0->tensorflow-text==2.6.0) (0.37.1)\r\n",
      "Requirement already satisfied: cached-property in /opt/conda/lib/python3.7/site-packages (from h5py~=3.1.0->tensorflow<2.7,>=2.6.0->tensorflow-text==2.6.0) (1.5.2)\r\n",
      "Requirement already satisfied: requests<3,>=2.21.0 in /opt/conda/lib/python3.7/site-packages (from tensorboard<2.7,>=2.6.0->tensorflow<2.7,>=2.6.0->tensorflow-text==2.6.0) (2.28.1)\r\n",
      "Requirement already satisfied: werkzeug>=0.11.15 in /opt/conda/lib/python3.7/site-packages (from tensorboard<2.7,>=2.6.0->tensorflow<2.7,>=2.6.0->tensorflow-text==2.6.0) (2.1.2)\r\n",
      "Requirement already satisfied: markdown>=2.6.8 in /opt/conda/lib/python3.7/site-packages (from tensorboard<2.7,>=2.6.0->tensorflow<2.7,>=2.6.0->tensorflow-text==2.6.0) (3.3.7)\r\n",
      "Requirement already satisfied: google-auth-oauthlib<0.5,>=0.4.1 in /opt/conda/lib/python3.7/site-packages (from tensorboard<2.7,>=2.6.0->tensorflow<2.7,>=2.6.0->tensorflow-text==2.6.0) (0.4.6)\r\n",
      "Requirement already satisfied: tensorboard-plugin-wit>=1.6.0 in /opt/conda/lib/python3.7/site-packages (from tensorboard<2.7,>=2.6.0->tensorflow<2.7,>=2.6.0->tensorflow-text==2.6.0) (1.8.1)\r\n",
      "Requirement already satisfied: google-auth<2,>=1.6.3 in /opt/conda/lib/python3.7/site-packages (from tensorboard<2.7,>=2.6.0->tensorflow<2.7,>=2.6.0->tensorflow-text==2.6.0) (1.35.0)\r\n",
      "Requirement already satisfied: tensorboard-data-server<0.7.0,>=0.6.0 in /opt/conda/lib/python3.7/site-packages (from tensorboard<2.7,>=2.6.0->tensorflow<2.7,>=2.6.0->tensorflow-text==2.6.0) (0.6.1)\r\n",
      "Requirement already satisfied: setuptools>=41.0.0 in /opt/conda/lib/python3.7/site-packages (from tensorboard<2.7,>=2.6.0->tensorflow<2.7,>=2.6.0->tensorflow-text==2.6.0) (59.8.0)\r\n",
      "Requirement already satisfied: cachetools<5.0,>=2.0.0 in /opt/conda/lib/python3.7/site-packages (from google-auth<2,>=1.6.3->tensorboard<2.7,>=2.6.0->tensorflow<2.7,>=2.6.0->tensorflow-text==2.6.0) (4.2.4)\r\n",
      "Requirement already satisfied: pyasn1-modules>=0.2.1 in /opt/conda/lib/python3.7/site-packages (from google-auth<2,>=1.6.3->tensorboard<2.7,>=2.6.0->tensorflow<2.7,>=2.6.0->tensorflow-text==2.6.0) (0.2.7)\r\n",
      "Requirement already satisfied: rsa<5,>=3.1.4 in /opt/conda/lib/python3.7/site-packages (from google-auth<2,>=1.6.3->tensorboard<2.7,>=2.6.0->tensorflow<2.7,>=2.6.0->tensorflow-text==2.6.0) (4.8)\r\n",
      "Requirement already satisfied: requests-oauthlib>=0.7.0 in /opt/conda/lib/python3.7/site-packages (from google-auth-oauthlib<0.5,>=0.4.1->tensorboard<2.7,>=2.6.0->tensorflow<2.7,>=2.6.0->tensorflow-text==2.6.0) (1.3.1)\r\n",
      "Requirement already satisfied: importlib-metadata>=4.4 in /opt/conda/lib/python3.7/site-packages (from markdown>=2.6.8->tensorboard<2.7,>=2.6.0->tensorflow<2.7,>=2.6.0->tensorflow-text==2.6.0) (4.12.0)\r\n",
      "Requirement already satisfied: idna<4,>=2.5 in /opt/conda/lib/python3.7/site-packages (from requests<3,>=2.21.0->tensorboard<2.7,>=2.6.0->tensorflow<2.7,>=2.6.0->tensorflow-text==2.6.0) (3.3)\r\n",
      "Requirement already satisfied: certifi>=2017.4.17 in /opt/conda/lib/python3.7/site-packages (from requests<3,>=2.21.0->tensorboard<2.7,>=2.6.0->tensorflow<2.7,>=2.6.0->tensorflow-text==2.6.0) (2022.6.15)\r\n",
      "Requirement already satisfied: charset-normalizer<3,>=2 in /opt/conda/lib/python3.7/site-packages (from requests<3,>=2.21.0->tensorboard<2.7,>=2.6.0->tensorflow<2.7,>=2.6.0->tensorflow-text==2.6.0) (2.1.0)\r\n",
      "Requirement already satisfied: urllib3<1.27,>=1.21.1 in /opt/conda/lib/python3.7/site-packages (from requests<3,>=2.21.0->tensorboard<2.7,>=2.6.0->tensorflow<2.7,>=2.6.0->tensorflow-text==2.6.0) (1.26.9)\r\n",
      "Requirement already satisfied: zipp>=0.5 in /opt/conda/lib/python3.7/site-packages (from importlib-metadata>=4.4->markdown>=2.6.8->tensorboard<2.7,>=2.6.0->tensorflow<2.7,>=2.6.0->tensorflow-text==2.6.0) (3.8.0)\r\n",
      "Requirement already satisfied: pyasn1<0.5.0,>=0.4.6 in /opt/conda/lib/python3.7/site-packages (from pyasn1-modules>=0.2.1->google-auth<2,>=1.6.3->tensorboard<2.7,>=2.6.0->tensorflow<2.7,>=2.6.0->tensorflow-text==2.6.0) (0.4.8)\r\n",
      "Requirement already satisfied: oauthlib>=3.0.0 in /opt/conda/lib/python3.7/site-packages (from requests-oauthlib>=0.7.0->google-auth-oauthlib<0.5,>=0.4.1->tensorboard<2.7,>=2.6.0->tensorflow<2.7,>=2.6.0->tensorflow-text==2.6.0) (3.2.0)\r\n",
      "Building wheels for collected packages: wrapt\r\n",
      "  Building wheel for wrapt (setup.py) ... \u001b[?25l-\b \b\\\b \b|\b \bdone\r\n",
      "\u001b[?25h  Created wheel for wrapt: filename=wrapt-1.12.1-cp37-cp37m-linux_x86_64.whl size=77067 sha256=c13fe335af5e133b8fcbd1c97c4ef1888fdac2fcf74d155f64ad92c5d8dbf98b\r\n",
      "  Stored in directory: /root/.cache/pip/wheels/62/76/4c/aa25851149f3f6d9785f6c869387ad82b3fd37582fa8147ac6\r\n",
      "Successfully built wrapt\r\n",
      "Installing collected packages: wrapt, typing-extensions, six, numpy, h5py, absl-py, tensorflow-text\r\n",
      "  Attempting uninstall: wrapt\r\n",
      "    Found existing installation: wrapt 1.14.1\r\n",
      "    Uninstalling wrapt-1.14.1:\r\n",
      "      Successfully uninstalled wrapt-1.14.1\r\n",
      "  Attempting uninstall: typing-extensions\r\n",
      "    Found existing installation: typing_extensions 4.1.1\r\n",
      "    Uninstalling typing_extensions-4.1.1:\r\n",
      "      Successfully uninstalled typing_extensions-4.1.1\r\n",
      "  Attempting uninstall: six\r\n",
      "    Found existing installation: six 1.16.0\r\n",
      "    Uninstalling six-1.16.0:\r\n",
      "      Successfully uninstalled six-1.16.0\r\n",
      "  Attempting uninstall: numpy\r\n",
      "    Found existing installation: numpy 1.21.6\r\n",
      "    Uninstalling numpy-1.21.6:\r\n",
      "      Successfully uninstalled numpy-1.21.6\r\n",
      "  Attempting uninstall: h5py\r\n",
      "    Found existing installation: h5py 3.7.0\r\n",
      "    Uninstalling h5py-3.7.0:\r\n",
      "      Successfully uninstalled h5py-3.7.0\r\n",
      "  Attempting uninstall: absl-py\r\n",
      "    Found existing installation: absl-py 1.1.0\r\n",
      "    Uninstalling absl-py-1.1.0:\r\n",
      "      Successfully uninstalled absl-py-1.1.0\r\n",
      "\u001b[31mERROR: pip's dependency resolver does not currently take into account all the packages that are installed. This behaviour is the source of the following dependency conflicts.\r\n",
      "tensorflow-io 0.21.0 requires tensorflow-io-gcs-filesystem==0.21.0, which is not installed.\r\n",
      "dask-cudf 21.10.1 requires cupy-cuda114, which is not installed.\r\n",
      "beatrix-jupyterlab 3.1.7 requires google-cloud-bigquery-storage, which is not installed.\r\n",
      "xarray-einstats 0.2.2 requires numpy>=1.21, but you have numpy 1.19.5 which is incompatible.\r\n",
      "tfx-bsl 1.9.0 requires tensorflow!=2.0.*,!=2.1.*,!=2.2.*,!=2.3.*,!=2.4.*,!=2.5.*,!=2.6.*,!=2.7.*,!=2.8.*,<3,>=1.15.5, but you have tensorflow 2.6.4 which is incompatible.\r\n",
      "tensorflow-transform 1.9.0 requires tensorflow!=2.0.*,!=2.1.*,!=2.2.*,!=2.3.*,!=2.4.*,!=2.5.*,!=2.6.*,!=2.7.*,!=2.8.*,<2.10,>=1.15.5, but you have tensorflow 2.6.4 which is incompatible.\r\n",
      "tensorflow-serving-api 2.9.0 requires tensorflow<3,>=2.9.0, but you have tensorflow 2.6.4 which is incompatible.\r\n",
      "pytorch-lightning 1.6.5 requires typing-extensions>=4.0.0, but you have typing-extensions 3.10.0.2 which is incompatible.\r\n",
      "pytools 2022.1.12 requires typing-extensions>=4.0; python_version < \"3.11\", but you have typing-extensions 3.10.0.2 which is incompatible.\r\n",
      "pdpbox 0.2.1 requires matplotlib==3.1.1, but you have matplotlib 3.5.2 which is incompatible.\r\n",
      "nnabla 1.29.0 requires numpy>=1.20.0, but you have numpy 1.19.5 which is incompatible.\r\n",
      "grpcio-status 1.47.0 requires grpcio>=1.47.0, but you have grpcio 1.43.0 which is incompatible.\r\n",
      "flax 0.5.2 requires rich~=11.1, but you have rich 12.1.0 which is incompatible.\r\n",
      "flax 0.5.2 requires typing-extensions>=4.1.1, but you have typing-extensions 3.10.0.2 which is incompatible.\r\n",
      "flake8 4.0.1 requires importlib-metadata<4.3; python_version < \"3.8\", but you have importlib-metadata 4.12.0 which is incompatible.\r\n",
      "featuretools 1.11.1 requires numpy>=1.21.0, but you have numpy 1.19.5 which is incompatible.\r\n",
      "dask-cudf 21.10.1 requires dask==2021.09.1, but you have dask 2022.2.0 which is incompatible.\r\n",
      "dask-cudf 21.10.1 requires distributed==2021.09.1, but you have distributed 2022.2.0 which is incompatible.\r\n",
      "cmdstanpy 1.0.4 requires numpy>=1.21, but you have numpy 1.19.5 which is incompatible.\r\n",
      "apache-beam 2.40.0 requires dill<0.3.2,>=0.3.1.1, but you have dill 0.3.5.1 which is incompatible.\r\n",
      "allennlp 2.10.0 requires h5py>=3.6.0, but you have h5py 3.1.0 which is incompatible.\r\n",
      "allennlp 2.10.0 requires numpy>=1.21.4, but you have numpy 1.19.5 which is incompatible.\r\n",
      "allennlp 2.10.0 requires protobuf==3.20.0, but you have protobuf 3.19.4 which is incompatible.\r\n",
      "aioitertools 0.10.0 requires typing_extensions>=4.0; python_version < \"3.10\", but you have typing-extensions 3.10.0.2 which is incompatible.\r\n",
      "aiobotocore 2.3.4 requires botocore<1.24.22,>=1.24.21, but you have botocore 1.27.33 which is incompatible.\u001b[0m\u001b[31m\r\n",
      "\u001b[0mSuccessfully installed absl-py-0.15.0 h5py-3.1.0 numpy-1.19.5 six-1.15.0 tensorflow-text-2.6.0 typing-extensions-3.10.0.2 wrapt-1.12.1\r\n",
      "\u001b[33mWARNING: Running pip as the 'root' user can result in broken permissions and conflicting behaviour with the system package manager. It is recommended to use a virtual environment instead: https://pip.pypa.io/warnings/venv\u001b[0m\u001b[33m\r\n",
      "\u001b[0m"
     ]
    }
   ],
   "source": [
    "!pip install -U tensorflow-text==2.6.0"
   ]
  },
  {
   "cell_type": "code",
   "execution_count": 53,
   "id": "5a6993ff",
   "metadata": {
    "execution": {
     "iopub.execute_input": "2022-08-24T18:48:21.161138Z",
     "iopub.status.busy": "2022-08-24T18:48:21.160764Z",
     "iopub.status.idle": "2022-08-24T18:48:22.070664Z",
     "shell.execute_reply": "2022-08-24T18:48:22.069716Z"
    },
    "papermill": {
     "duration": 0.969204,
     "end_time": "2022-08-24T18:48:22.073060",
     "exception": false,
     "start_time": "2022-08-24T18:48:21.103856",
     "status": "completed"
    },
    "tags": []
   },
   "outputs": [],
   "source": [
    "import tensorflow\n",
    "import tensorflow_text as text\n",
    "import tensorflow_hub as hub"
   ]
  },
  {
   "cell_type": "code",
   "execution_count": 54,
   "id": "ccc184fc",
   "metadata": {
    "execution": {
     "iopub.execute_input": "2022-08-24T18:48:22.187674Z",
     "iopub.status.busy": "2022-08-24T18:48:22.187328Z",
     "iopub.status.idle": "2022-08-24T18:48:40.738932Z",
     "shell.execute_reply": "2022-08-24T18:48:40.737955Z"
    },
    "papermill": {
     "duration": 18.611679,
     "end_time": "2022-08-24T18:48:40.741565",
     "exception": false,
     "start_time": "2022-08-24T18:48:22.129886",
     "status": "completed"
    },
    "tags": []
   },
   "outputs": [],
   "source": [
    "bert_preprocesare = hub.KerasLayer(\"https://tfhub.dev/tensorflow/bert_en_uncased_preprocess/3\")\n",
    "bert_encoder = hub.KerasLayer(\"https://tfhub.dev/tensorflow/bert_en_uncased_L-12_H-768_A-12/4\")"
   ]
  },
  {
   "cell_type": "code",
   "execution_count": 55,
   "id": "e22bea74",
   "metadata": {
    "execution": {
     "iopub.execute_input": "2022-08-24T18:48:40.857501Z",
     "iopub.status.busy": "2022-08-24T18:48:40.856854Z",
     "iopub.status.idle": "2022-08-24T18:48:42.074058Z",
     "shell.execute_reply": "2022-08-24T18:48:42.073073Z"
    },
    "papermill": {
     "duration": 1.278425,
     "end_time": "2022-08-24T18:48:42.076547",
     "exception": false,
     "start_time": "2022-08-24T18:48:40.798122",
     "status": "completed"
    },
    "tags": []
   },
   "outputs": [],
   "source": [
    "# strat Bert\n",
    "text_intrare = tensorflow.keras.layers.Input(shape=(), dtype=tensorflow.string)\n",
    "text_p = bert_preprocesare(text_intrare)\n",
    "iesire = bert_encoder(text_p)\n",
    "\n",
    "strat = tensorflow.keras.layers.Dropout(0.1, name=\"dropout\")(iesire['pooled_output'])\n",
    "strat = tensorflow.keras.layers.Dense(1, activation='sigmoid')(strat)\n",
    "\n",
    "# Construim modelul final\n",
    "model = tensorflow.keras.Model(inputs=[text_intrare], outputs = [strat])"
   ]
  },
  {
   "cell_type": "code",
   "execution_count": 56,
   "id": "70caaa48",
   "metadata": {
    "execution": {
     "iopub.execute_input": "2022-08-24T18:48:42.197188Z",
     "iopub.status.busy": "2022-08-24T18:48:42.196659Z",
     "iopub.status.idle": "2022-08-24T18:48:42.209878Z",
     "shell.execute_reply": "2022-08-24T18:48:42.208861Z"
    },
    "papermill": {
     "duration": 0.077889,
     "end_time": "2022-08-24T18:48:42.212194",
     "exception": false,
     "start_time": "2022-08-24T18:48:42.134305",
     "status": "completed"
    },
    "tags": []
   },
   "outputs": [
    {
     "name": "stdout",
     "output_type": "stream",
     "text": [
      "Model: \"model\"\n",
      "__________________________________________________________________________________________________\n",
      "Layer (type)                    Output Shape         Param #     Connected to                     \n",
      "==================================================================================================\n",
      "input_1 (InputLayer)            [(None,)]            0                                            \n",
      "__________________________________________________________________________________________________\n",
      "keras_layer (KerasLayer)        {'input_word_ids': ( 0           input_1[0][0]                    \n",
      "__________________________________________________________________________________________________\n",
      "keras_layer_1 (KerasLayer)      {'default': (None, 7 109482241   keras_layer[0][0]                \n",
      "                                                                 keras_layer[0][1]                \n",
      "                                                                 keras_layer[0][2]                \n",
      "__________________________________________________________________________________________________\n",
      "dropout (Dropout)               (None, 768)          0           keras_layer_1[0][13]             \n",
      "__________________________________________________________________________________________________\n",
      "dense_5 (Dense)                 (None, 1)            769         dropout[0][0]                    \n",
      "==================================================================================================\n",
      "Total params: 109,483,010\n",
      "Trainable params: 769\n",
      "Non-trainable params: 109,482,241\n",
      "__________________________________________________________________________________________________\n"
     ]
    }
   ],
   "source": [
    "model.summary()"
   ]
  },
  {
   "cell_type": "code",
   "execution_count": 57,
   "id": "9e522925",
   "metadata": {
    "execution": {
     "iopub.execute_input": "2022-08-24T18:48:42.337485Z",
     "iopub.status.busy": "2022-08-24T18:48:42.337183Z",
     "iopub.status.idle": "2022-08-24T18:48:42.349306Z",
     "shell.execute_reply": "2022-08-24T18:48:42.348392Z"
    },
    "papermill": {
     "duration": 0.075809,
     "end_time": "2022-08-24T18:48:42.351514",
     "exception": false,
     "start_time": "2022-08-24T18:48:42.275705",
     "status": "completed"
    },
    "tags": []
   },
   "outputs": [],
   "source": [
    "model.compile(optimizer='adam',\n",
    "              loss='binary_crossentropy',\n",
    "              metrics=tensorflow.keras.metrics.BinaryAccuracy(name='accuracy'))"
   ]
  },
  {
   "cell_type": "code",
   "execution_count": 58,
   "id": "5d97034c",
   "metadata": {
    "execution": {
     "iopub.execute_input": "2022-08-24T18:48:42.472784Z",
     "iopub.status.busy": "2022-08-24T18:48:42.472230Z",
     "iopub.status.idle": "2022-08-24T18:48:42.738982Z",
     "shell.execute_reply": "2022-08-24T18:48:42.738011Z"
    },
    "papermill": {
     "duration": 0.33025,
     "end_time": "2022-08-24T18:48:42.741559",
     "exception": false,
     "start_time": "2022-08-24T18:48:42.411309",
     "status": "completed"
    },
    "tags": []
   },
   "outputs": [],
   "source": [
    "X_train, X_test, y_train, y_test = train_test_split(caracteristici, predictii, test_size=0.20, random_state=1)"
   ]
  },
  {
   "cell_type": "code",
   "execution_count": 59,
   "id": "60692cdc",
   "metadata": {
    "execution": {
     "iopub.execute_input": "2022-08-24T18:48:42.856323Z",
     "iopub.status.busy": "2022-08-24T18:48:42.855689Z",
     "iopub.status.idle": "2022-08-24T19:36:12.359954Z",
     "shell.execute_reply": "2022-08-24T19:36:12.358965Z"
    },
    "papermill": {
     "duration": 2850.171848,
     "end_time": "2022-08-24T19:36:12.969621",
     "exception": false,
     "start_time": "2022-08-24T18:48:42.797773",
     "status": "completed"
    },
    "tags": []
   },
   "outputs": [
    {
     "name": "stdout",
     "output_type": "stream",
     "text": [
      "Epoch 1/10\n",
      "1011/1011 [==============================] - 285s 275ms/step - loss: 0.3181 - accuracy: 0.8857 - val_loss: 0.1896 - val_accuracy: 0.9443\n",
      "Epoch 2/10\n",
      "1011/1011 [==============================] - 275s 272ms/step - loss: 0.1821 - accuracy: 0.9393 - val_loss: 0.1415 - val_accuracy: 0.9527\n",
      "Epoch 3/10\n",
      "1011/1011 [==============================] - 275s 272ms/step - loss: 0.1547 - accuracy: 0.9455 - val_loss: 0.1338 - val_accuracy: 0.9482\n",
      "Epoch 4/10\n",
      "1011/1011 [==============================] - 278s 275ms/step - loss: 0.1412 - accuracy: 0.9501 - val_loss: 0.1108 - val_accuracy: 0.9616\n",
      "Epoch 5/10\n",
      "1011/1011 [==============================] - 276s 273ms/step - loss: 0.1315 - accuracy: 0.9530 - val_loss: 0.1052 - val_accuracy: 0.9649\n",
      "Epoch 6/10\n",
      "1011/1011 [==============================] - 278s 275ms/step - loss: 0.1268 - accuracy: 0.9551 - val_loss: 0.0942 - val_accuracy: 0.9680\n",
      "Epoch 7/10\n",
      "1011/1011 [==============================] - 293s 290ms/step - loss: 0.1222 - accuracy: 0.9545 - val_loss: 0.0892 - val_accuracy: 0.9691\n",
      "Epoch 8/10\n",
      "1011/1011 [==============================] - 279s 276ms/step - loss: 0.1176 - accuracy: 0.9578 - val_loss: 0.0855 - val_accuracy: 0.9713\n",
      "Epoch 9/10\n",
      "1011/1011 [==============================] - 277s 274ms/step - loss: 0.1150 - accuracy: 0.9592 - val_loss: 0.0817 - val_accuracy: 0.9722\n",
      "Epoch 10/10\n",
      "1011/1011 [==============================] - 277s 274ms/step - loss: 0.1155 - accuracy: 0.9583 - val_loss: 0.0813 - val_accuracy: 0.9730\n"
     ]
    },
    {
     "data": {
      "text/plain": [
       "<keras.callbacks.History at 0x7feac7ebd090>"
      ]
     },
     "execution_count": 59,
     "metadata": {},
     "output_type": "execute_result"
    }
   ],
   "source": [
    "model.fit(X_train, y_train, epochs=10, validation_split=0.1)"
   ]
  },
  {
   "cell_type": "code",
   "execution_count": 60,
   "id": "675193d2",
   "metadata": {
    "execution": {
     "iopub.execute_input": "2022-08-24T19:36:14.213193Z",
     "iopub.status.busy": "2022-08-24T19:36:14.212818Z",
     "iopub.status.idle": "2022-08-24T19:37:13.451260Z",
     "shell.execute_reply": "2022-08-24T19:37:13.450253Z"
    },
    "papermill": {
     "duration": 59.835862,
     "end_time": "2022-08-24T19:37:13.453877",
     "exception": false,
     "start_time": "2022-08-24T19:36:13.618015",
     "status": "completed"
    },
    "tags": []
   },
   "outputs": [],
   "source": [
    "y_prezis = model.predict(X_test)"
   ]
  },
  {
   "cell_type": "code",
   "execution_count": 61,
   "id": "5a8a4641",
   "metadata": {
    "execution": {
     "iopub.execute_input": "2022-08-24T19:37:14.954414Z",
     "iopub.status.busy": "2022-08-24T19:37:14.953870Z",
     "iopub.status.idle": "2022-08-24T19:37:14.959783Z",
     "shell.execute_reply": "2022-08-24T19:37:14.958769Z"
    },
    "papermill": {
     "duration": 0.608764,
     "end_time": "2022-08-24T19:37:14.961885",
     "exception": false,
     "start_time": "2022-08-24T19:37:14.353121",
     "status": "completed"
    },
    "tags": []
   },
   "outputs": [],
   "source": [
    "predictii_model = (y_prezis > 0.5).astype(\"int32\")"
   ]
  },
  {
   "cell_type": "code",
   "execution_count": 62,
   "id": "8f46ee4a",
   "metadata": {
    "execution": {
     "iopub.execute_input": "2022-08-24T19:37:16.213146Z",
     "iopub.status.busy": "2022-08-24T19:37:16.212786Z",
     "iopub.status.idle": "2022-08-24T19:37:16.222252Z",
     "shell.execute_reply": "2022-08-24T19:37:16.221089Z"
    },
    "papermill": {
     "duration": 0.671537,
     "end_time": "2022-08-24T19:37:16.224227",
     "exception": false,
     "start_time": "2022-08-24T19:37:15.552690",
     "status": "completed"
    },
    "tags": []
   },
   "outputs": [
    {
     "name": "stdout",
     "output_type": "stream",
     "text": [
      "acuratete model BERT:  0.9741039164873879\n"
     ]
    }
   ],
   "source": [
    "print('acuratete model BERT: ', roc_auc_score(y_test, predictii_model))"
   ]
  },
  {
   "cell_type": "code",
   "execution_count": 63,
   "id": "54cf3ed0",
   "metadata": {
    "execution": {
     "iopub.execute_input": "2022-08-24T19:37:17.481463Z",
     "iopub.status.busy": "2022-08-24T19:37:17.480925Z",
     "iopub.status.idle": "2022-08-24T19:37:17.491645Z",
     "shell.execute_reply": "2022-08-24T19:37:17.490626Z"
    },
    "papermill": {
     "duration": 0.668425,
     "end_time": "2022-08-24T19:37:17.493811",
     "exception": false,
     "start_time": "2022-08-24T19:37:16.825386",
     "status": "completed"
    },
    "tags": []
   },
   "outputs": [
    {
     "data": {
      "text/plain": [
       "array([[4604,   78],\n",
       "       [ 151, 4147]])"
      ]
     },
     "execution_count": 63,
     "metadata": {},
     "output_type": "execute_result"
    }
   ],
   "source": [
    "cm = confusion_matrix(y_test, predictii_model)\n",
    "cm "
   ]
  }
 ],
 "metadata": {
  "kernelspec": {
   "display_name": "Python 3",
   "language": "python",
   "name": "python3"
  },
  "language_info": {
   "codemirror_mode": {
    "name": "ipython",
    "version": 3
   },
   "file_extension": ".py",
   "mimetype": "text/x-python",
   "name": "python",
   "nbconvert_exporter": "python",
   "pygments_lexer": "ipython3",
   "version": "3.7.12"
  },
  "papermill": {
   "default_parameters": {},
   "duration": 3108.152792,
   "end_time": "2022-08-24T19:37:21.315002",
   "environment_variables": {},
   "exception": null,
   "input_path": "__notebook__.ipynb",
   "output_path": "__notebook__.ipynb",
   "parameters": {},
   "start_time": "2022-08-24T18:45:33.162210",
   "version": "2.3.4"
  }
 },
 "nbformat": 4,
 "nbformat_minor": 5
}
